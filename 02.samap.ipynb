{
 "cells": [
  {
   "cell_type": "code",
   "execution_count": 1,
   "metadata": {},
   "outputs": [],
   "source": [
    "from samap.mapping import SAMAP\n",
    "from samap.analysis import (get_mapping_scores, GenePairFinder,\n",
    "                            sankey_plot, chord_plot, CellTypeTriangles, \n",
    "                            ParalogSubstitutions, FunctionalEnrichment,\n",
    "                            convert_eggnog_to_homologs, GeneTriangles)\n",
    "from samalg import SAM\n",
    "import pandas as pd\n",
    "import os,re,sys"
   ]
  },
  {
   "cell_type": "code",
   "execution_count": 8,
   "metadata": {},
   "outputs": [],
   "source": [
    "# os.chdir('H:/002.singcell/01.liver/10.mutileSpecies/05.SAMap')\n",
    "# fn1 = './01.h5ad_counts/bichir_counts.h5ad'\n",
    "# fn2 = './01.h5ad_counts/dogshark_counts.h5ad'\n",
    "# fn3 = './01.h5ad_counts/frog_counts.h5ad'\n",
    "# fn4 = './01.h5ad_counts/human_counts.h5ad'\n",
    "# fn5 = './01.h5ad_counts/lamprey_counts.h5ad'\n",
    "# fn6 = './01.h5ad_counts/lancelet_counts.h5ad'\n",
    "# fn7 = './01.h5ad_counts/lungfish_counts.h5ad'\n",
    "# resolution={'hu':0.5,'fr':0.5,'lm':0.5,'lu':0.5,'do':0.5,'la':0.5,'bi':0.5}"
   ]
  },
  {
   "cell_type": "code",
   "execution_count": 2,
   "metadata": {},
   "outputs": [],
   "source": [
    "# filenames = {'bi':fn1,'do':fn2,'fr':fn3,'hu':fn4,'lm':fn5,'la':fn6,'lu':fn7}\n",
    "# # filenames = {'bi':fn1,'do':fn2}\n",
    "# sm = SAMAP(filenames,f_maps = 'H:/002.singcell/01.liver/10.mutileSpecies/05.SAMap/maps/',save_processed=True,resolutions=resolution)\n",
    "# # sm.run(pairwise=True,N_GENE_CHUNKS=5)\n",
    "fn4 = './01.h5ad_counts/human_counts_pr.h5ad'\n",
    "# fn5 = './01.h5ad_counts/lamprey_counts_pr.h5ad'\n",
    "# fn2 = './01.h5ad_counts/dogshark_counts_pr.h5ad'\n",
    "fn7 = './01.h5ad_counts/lungfish_counts_pr.h5ad'\n",
    "# fn1 = './01.h5ad_counts/bichir_counts_pr.h5ad'\n",
    "# fn3 = './01.h5ad_counts/frog_counts_pr.h5ad'\n",
    "# fn6 = './01.h5ad_counts/lancelet_counts_pr.h5ad'\n",
    "sam1=SAM()\n",
    "sam1.load_data(fn4)\n",
    "\n",
    "sam2=SAM()\n",
    "sam2.load_data(fn7)\n",
    "\n",
    "# sam3 = SAM()\n",
    "# sam3.load_data(fn2)\n",
    "\n",
    "# sam4 = SAM()\n",
    "# sam4.load_data(fn7)\n",
    "\n",
    "# sam5 = SAM()\n",
    "# sam5.load_data(fn1)\n",
    "\n",
    "# sam6 = SAM()\n",
    "# sam6.load_data(fn3)\n",
    "\n",
    "# sam7 = SAM()\n",
    "# sam7.load_data(fn6)"
   ]
  },
  {
   "cell_type": "code",
   "execution_count": 2,
   "metadata": {},
   "outputs": [],
   "source": [
    "# os.chdir('H:/002.singcell/01.liver/10.mutileSpecies/05.SAMap')\n",
    "# fn1 = './01.h5ad_counts/bichir_counts_pr.h5ad'\n",
    "# fn2 = './01.h5ad_counts/dogshark_counts_pr.h5ad'\n",
    "# fn3 = './01.h5ad_counts/frog_counts_pr.h5ad'\n",
    "# fn4 = './01.h5ad_counts/human_counts_pr.h5ad'\n",
    "# fn5 = './01.h5ad_counts/lamprey_counts_pr.h5ad'\n",
    "# fn6 = './01.h5ad_counts/lancelet_counts_pr.h5ad'\n",
    "# fn7 = './01.h5ad_counts/lungfish_counts_pr.h5ad'\n",
    "# sam1=SAM()\n",
    "# sam1.load_data(fn1)\n",
    "\n",
    "# sam2=SAM()\n",
    "# sam2.load_data(fn2)\n",
    "\n",
    "# sam3=SAM()\n",
    "# sam3.load_data(fn3)\n",
    "\n",
    "# sam4=SAM()\n",
    "# sam4.load_data(fn4)\n",
    "\n",
    "# sam5=SAM()\n",
    "# sam5.load_data(fn5)\n",
    "\n",
    "# sam6=SAM()\n",
    "# sam6.load_data(fn6)\n",
    "\n",
    "# sam7=SAM()\n",
    "# sam7.load_data(fn7)"
   ]
  },
  {
   "cell_type": "code",
   "execution_count": 3,
   "metadata": {},
   "outputs": [
    {
     "name": "stdout",
     "output_type": "stream",
     "text": [
      "15305 `hu` gene symbols match between the datasets and the BLAST graph.\n",
      "17015 `lu` gene symbols match between the datasets and the BLAST graph.\n"
     ]
    }
   ],
   "source": [
    "# sams = {'bi':sam1,'do':sam2,'fr':sam3, 'hu':sam4,'lm':sam5, 'la':sam6, 'lu':sam7}\n",
    "sams = {'hu':sam1,'lu':sam2,}\n",
    "sm = SAMAP(\n",
    "        sams,\n",
    "        f_maps = './maps/',\n",
    "    )"
   ]
  },
  {
   "cell_type": "code",
   "execution_count": 4,
   "metadata": {},
   "outputs": [
    {
     "name": "stdout",
     "output_type": "stream",
     "text": [
      "Prepping datasets for translation.\n",
      "Translating feature spaces pairwise.\n",
      "Projecting data into joint latent space. 31.84369444847107\n",
      "Correcting data with means. 39.99874925613403\n",
      "Expanding neighbourhoods of species hu...\n",
      "Expanding neighbourhoods of species lu...\n",
      "Indegree coarsening\n",
      "0/3 (0, 41865)\n",
      "1/3 (20000, 41865)\n",
      "2/3 (40000, 41865)\n",
      "Rescaling edge weights by expression correlations.\n",
      "Concatenating SAM objects...\n",
      "Iteration 1 complete.\n",
      "Alignment scores:\n",
      "         hu        lu\n",
      "hu  0.00000  0.353487\n",
      "lu  0.55835  0.000000\n",
      "Calculating gene-gene correlations in the homology graph...\n",
      "Prepping datasets for translation.\n",
      "Translating feature spaces pairwise.\n",
      "Projecting data into joint latent space. 26.684575080871582\n",
      "Correcting data with means. 37.3178129196167\n",
      "Expanding neighbourhoods of species hu...\n",
      "Expanding neighbourhoods of species lu...\n",
      "Indegree coarsening\n",
      "0/3 (0, 41865)\n",
      "1/3 (20000, 41865)\n",
      "2/3 (40000, 41865)\n",
      "Rescaling edge weights by expression correlations.\n",
      "Concatenating SAM objects...\n",
      "Iteration 2 complete.\n",
      "Alignment scores:\n",
      "         hu        lu\n",
      "hu  0.00000  0.451838\n",
      "lu  0.60799  0.000000\n",
      "Calculating gene-gene correlations in the homology graph...\n",
      "Prepping datasets for translation.\n",
      "Translating feature spaces pairwise.\n",
      "Projecting data into joint latent space. 26.266721487045288\n",
      "Correcting data with means. 32.90884709358215\n",
      "Expanding neighbourhoods of species hu...\n",
      "Expanding neighbourhoods of species lu...\n",
      "Indegree coarsening\n",
      "0/3 (0, 41865)\n",
      "1/3 (20000, 41865)\n",
      "2/3 (40000, 41865)\n",
      "Rescaling edge weights by expression correlations.\n",
      "Concatenating SAM objects...\n",
      "Iteration 3 complete.\n",
      "Alignment scores:\n",
      "          hu        lu\n",
      "hu  0.000000  0.478795\n",
      "lu  0.620165  0.000000\n",
      "Running UMAP on the stitched manifolds.\n",
      "Elapsed time: 12.174464929103852 minutes.\n"
     ]
    },
    {
     "data": {
      "text/plain": [
       "<samalg.SAM at 0x27a5674a208>"
      ]
     },
     "execution_count": 4,
     "metadata": {},
     "output_type": "execute_result"
    }
   ],
   "source": [
    "sm.run(N_GENE_CHUNKS=10,crossK=20)  ##pairwise=True"
   ]
  },
  {
   "cell_type": "code",
   "execution_count": 5,
   "metadata": {},
   "outputs": [],
   "source": [
    "smp = sm.samap\n"
   ]
  },
  {
   "cell_type": "code",
   "execution_count": 6,
   "metadata": {},
   "outputs": [
    {
     "data": {
      "text/plain": [
       "<41427x41427 sparse matrix of type '<class 'numpy.float64'>'\n",
       "\twith 475966 stored elements in Compressed Sparse Row format>"
      ]
     },
     "execution_count": 6,
     "metadata": {},
     "output_type": "execute_result"
    }
   ],
   "source": [
    "smp.adata.varp[\"homology_graph_reweighted\"]"
   ]
  },
  {
   "cell_type": "code",
   "execution_count": 10,
   "metadata": {},
   "outputs": [],
   "source": [
    "from scipy import sparse\n",
    "sparse.save_npz('./homology_graph_test.npz', smp.adata.varp[\"homology_graph_reweighted\"])\n",
    "csr_matrix_variable = sparse.load_npz('./homology_graph_test.npz') "
   ]
  },
  {
   "cell_type": "code",
   "execution_count": 11,
   "metadata": {},
   "outputs": [],
   "source": [
    "csr_matrix_variable = sparse.load_npz('./homology_graph_test.npz') "
   ]
  },
  {
   "cell_type": "code",
   "execution_count": null,
   "metadata": {},
   "outputs": [],
   "source": [
    "sm.plot_expression_overlap({'hu':'FGG'})"
   ]
  },
  {
   "cell_type": "code",
   "execution_count": 17,
   "metadata": {},
   "outputs": [
    {
     "data": {
      "text/plain": [
       "AnnData object with n_obs × n_vars = 16928 × 36913\n",
       "    obs: 'lu_sample', 'lu_cell type', 'lu_cluster', 'lu_species', 'lu_leiden_clusters', 'bi_cell type', 'bi_cluster', 'bi_species', 'bi_sample', 'bi_leiden_clusters', 'batch', 'species'\n",
       "    uns: 'neighbors', 'gnnm_corr', 'mapping_K', 'umap', 'homology_gene_names_dict'\n",
       "    obsm: 'wPCA', 'X_umap'\n",
       "    layers: 'X_disp'\n",
       "    obsp: 'connectivities', 'xsim', 'knn'\n",
       "    varp: 'homology_graph_reweighted', 'homology_graph'"
      ]
     },
     "execution_count": 17,
     "metadata": {},
     "output_type": "execute_result"
    }
   ],
   "source": [
    "samap.adata"
   ]
  },
  {
   "cell_type": "code",
   "execution_count": 58,
   "metadata": {},
   "outputs": [],
   "source": [
    "import scanpy as sc\n",
    "import scanpy.external as sce\n",
    "adata=samap.adata.copy()"
   ]
  },
  {
   "cell_type": "code",
   "execution_count": 59,
   "metadata": {},
  {
   "cell_type": "code",
   "execution_count": 60,
   "metadata": {},
   "outputs": [
    {
     "data": {
      "text/plain": [
       "AnnData object with n_obs × n_vars = 55115 × 36797\n",
       "    obs: 'hu_sample', 'hu_cell type', 'hu_cluster', 'hu_species', 'hu_leiden_clusters', 'lm_sample', 'lm_cluster', 'lm_species', 'lm_leiden_clusters', 'batch', 'species'\n",
       "    uns: 'neighbors', 'gnnm_corr', 'mapping_K', 'umap', 'homology_gene_names_dict'\n",
       "    obsm: 'wPCA', 'X_umap', 'X_pca_harmony'\n",
       "    layers: 'X_disp'\n",
       "    obsp: 'connectivities', 'xsim', 'knn'\n",
       "    varp: 'homology_graph_reweighted', 'homology_graph'"
      ]
     },
     "execution_count": 60,
     "metadata": {},
     "output_type": "execute_result"
    }
   ],
   "source": [
    "adata"
   ]
  },
  {
   "cell_type": "code",
   "execution_count": 63,
   "metadata": {},
   "outputs": [],
   "source": [
    "sc.pp.neighbors(adata,n_neighbors=30, n_pcs=40, use_rep='X_pca_harmony')"
   ]
  },
  {
   "cell_type": "code",
   "execution_count": 64,
   "metadata": {},
   "outputs": [],
   "source": [
    "sc.tl.umap(adata,min_dist=0.5,spread=2)"
   ]
  },
  {
   "cell_type": "code",
   "execution_count": 65,
   "metadata": {},
   "outputs": [],
   "source": [
    "sc.tl.leiden(adata, key_added='leiden', resolution=1)"
   ]
  },
  {
   "cell_type": "code",
   "execution_count": null,
   "metadata": {},
   "outputs": [],
   "source": [
    "sc.pl.umap(adata, color=['leiden',\"species\"], title=['leiden',\"species\"], palette=sc.pl.palettes.default_102, show=True, alpha=1,size=5,add_outline=True,outline_color=[\"white\",\"white\"],frameon=False)"
   ]
  },
  {
   "cell_type": "code",
   "execution_count": null,
   "metadata": {},
   "outputs": [],
   "source": [
    "sc.pl.umap(adata,color=[\"hu_CDH5\",\"hu_ENG\",\"hu_FLT1\",\"hu_CLEC4G\",\"hu_RAMP2\"])"
   ]
  },
  {
   "cell_type": "code",
   "execution_count": 7,
   "metadata": {},
   "outputs": [],
   "source": [
    "human = pd.read_csv('02.eggNOG/human.annotations.tsv',sep='\\t',index_col=0)\n",
    "lungfish = pd.read_csv('02.eggNOG/lungfish.annotations.tsv',sep='\\t',index_col=0)"
   ]
  },
  {
   "cell_type": "code",
   "execution_count": 8,
   "metadata": {},
   "outputs": [],
   "source": [
    "EGGs={'lu':lungfish,'hu':human}"
   ]
  },
  {
   "cell_type": "code",
   "execution_count": 10,
   "metadata": {},
   "outputs": [],
   "source": [
    "keys = {'lu':'cluster','bi':'cluster'}"
   ]
  },
  {
   "cell_type": "code",
   "execution_count": 142,
   "metadata": {},
   "outputs": [],
   "source": [
    "ortholog_pairs = convert_eggnog_to_homologs(sm,EGGs,og_key='eggNOG_OGs',taxon=7711) #33213 is the taxon code for Bilaterians"
   ]
  },
  {
   "cell_type": "code",
   "execution_count": 143,
   "metadata": {},
   "outputs": [],
   "source": [
    "paralog_pairs = convert_eggnog_to_homologs(sm,EGGs,og_key='eggNOG_OGs',taxon=7742) #7742 is the taxon code for Vertebrate "
   ]
  },
  {
   "cell_type": "code",
   "execution_count": 11,
   "metadata": {},
   "outputs": [
    {
     "data": {
      "text/plain": [
       "array([['hu_A1CF', 'lu_GENE13173'],\n",
       "       ['hu_A1CF', 'lu_GENE6415'],\n",
       "       ['hu_A2M', 'lu_GENE17814'],\n",
       "       ...,\n",
       "       ['hu_ZYX', 'lu_GENE17659'],\n",
       "       ['hu_ZZEF1', 'lu_GENE19362'],\n",
       "       ['hu_ZZZ3', 'lu_GENE2418']], dtype='<U22')"
      ]
     },
     "execution_count": 11,
     "metadata": {},
     "output_type": "execute_result"
    }
   ],
   "source": [
    "paralog_pairs"
   ]
  },
  {
   "cell_type": "code",
   "execution_count": 134,
   "metadata": {},
   "outputs": [],
   "source": [
    "Psubs = ParalogSubstitutions(sm,ortholog_pairs,psub_thr=0.3)"
   ]
  },
  {
   "cell_type": "code",
   "execution_count": 144,
   "metadata": {},
   "outputs": [
    {
     "data": {
      "text/html": [
       "<div>\n",
       "<style scoped>\n",
       "    .dataframe tbody tr th:only-of-type {\n",
       "        vertical-align: middle;\n",
       "    }\n",
       "\n",
       "    .dataframe tbody tr th {\n",
       "        vertical-align: top;\n",
       "    }\n",
       "\n",
       "    .dataframe thead th {\n",
       "        text-align: right;\n",
       "    }\n",
       "</style>\n",
       "<table border=\"1\" class=\"dataframe\">\n",
       "  <thead>\n",
       "    <tr style=\"text-align: right;\">\n",
       "      <th></th>\n",
       "      <th>ortholog pairs</th>\n",
       "      <th>paralog pairs</th>\n",
       "      <th>ortholog corrs</th>\n",
       "      <th>paralog corrs</th>\n",
       "      <th>corr diff</th>\n",
       "    </tr>\n",
       "  </thead>\n",
       "  <tbody>\n",
       "    <tr>\n",
       "      <th>19684</th>\n",
       "      <td>hu_CD163;lu_GENE18521</td>\n",
       "      <td>hu_CD163;lu_GENE15346</td>\n",
       "      <td>0.000000</td>\n",
       "      <td>0.895007</td>\n",
       "      <td>0.895007</td>\n",
       "    </tr>\n",
       "    <tr>\n",
       "      <th>19699</th>\n",
       "      <td>hu_CD163;lu_GENE18808</td>\n",
       "      <td>hu_CD163;lu_GENE15346</td>\n",
       "      <td>0.000000</td>\n",
       "      <td>0.895007</td>\n",
       "      <td>0.895007</td>\n",
       "    </tr>\n",
       "    <tr>\n",
       "      <th>19774</th>\n",
       "      <td>hu_CD163;lu_GENE2067</td>\n",
       "      <td>hu_CD163;lu_GENE15346</td>\n",
       "      <td>0.000000</td>\n",
       "      <td>0.895007</td>\n",
       "      <td>0.895007</td>\n",
       "    </tr>\n",
       "    <tr>\n",
       "      <th>19834</th>\n",
       "      <td>hu_CD163;lu_GENE6273</td>\n",
       "      <td>hu_CD163;lu_GENE15346</td>\n",
       "      <td>0.000000</td>\n",
       "      <td>0.895007</td>\n",
       "      <td>0.895007</td>\n",
       "    </tr>\n",
       "    <tr>\n",
       "      <th>19714</th>\n",
       "      <td>hu_CD163;lu_GENE18514</td>\n",
       "      <td>hu_CD163;lu_GENE15346</td>\n",
       "      <td>0.000000</td>\n",
       "      <td>0.895007</td>\n",
       "      <td>0.895007</td>\n",
       "    </tr>\n",
       "    <tr>\n",
       "      <th>19849</th>\n",
       "      <td>hu_CD163;lu_GENE18515</td>\n",
       "      <td>hu_CD163;lu_GENE15346</td>\n",
       "      <td>0.000000</td>\n",
       "      <td>0.895007</td>\n",
       "      <td>0.895007</td>\n",
       "    </tr>\n",
       "    <tr>\n",
       "      <th>19729</th>\n",
       "      <td>hu_CD163;lu_GENE6775</td>\n",
       "      <td>hu_CD163;lu_GENE15346</td>\n",
       "      <td>0.000000</td>\n",
       "      <td>0.895007</td>\n",
       "      <td>0.895007</td>\n",
       "    </tr>\n",
       "    <tr>\n",
       "      <th>19789</th>\n",
       "      <td>hu_CD163;lu_GENE456</td>\n",
       "      <td>hu_CD163;lu_GENE15346</td>\n",
       "      <td>0.005707</td>\n",
       "      <td>0.895007</td>\n",
       "      <td>0.889300</td>\n",
       "    </tr>\n",
       "    <tr>\n",
       "      <th>19777</th>\n",
       "      <td>hu_CD163;lu_GENE2067</td>\n",
       "      <td>hu_CD163;lu_GENE9220</td>\n",
       "      <td>0.000000</td>\n",
       "      <td>0.882172</td>\n",
       "      <td>0.882172</td>\n",
       "    </tr>\n",
       "    <tr>\n",
       "      <th>19687</th>\n",
       "      <td>hu_CD163;lu_GENE18521</td>\n",
       "      <td>hu_CD163;lu_GENE9220</td>\n",
       "      <td>0.000000</td>\n",
       "      <td>0.882172</td>\n",
       "      <td>0.882172</td>\n",
       "    </tr>\n",
       "    <tr>\n",
       "      <th>19837</th>\n",
       "      <td>hu_CD163;lu_GENE6273</td>\n",
       "      <td>hu_CD163;lu_GENE9220</td>\n",
       "      <td>0.000000</td>\n",
       "      <td>0.882172</td>\n",
       "      <td>0.882172</td>\n",
       "    </tr>\n",
       "    <tr>\n",
       "      <th>19852</th>\n",
       "      <td>hu_CD163;lu_GENE18515</td>\n",
       "      <td>hu_CD163;lu_GENE9220</td>\n",
       "      <td>0.000000</td>\n",
       "      <td>0.882172</td>\n",
       "      <td>0.882172</td>\n",
       "    </tr>\n",
       "    <tr>\n",
       "      <th>19717</th>\n",
       "      <td>hu_CD163;lu_GENE18514</td>\n",
       "      <td>hu_CD163;lu_GENE9220</td>\n",
       "      <td>0.000000</td>\n",
       "      <td>0.882172</td>\n",
       "      <td>0.882172</td>\n",
       "    </tr>\n",
       "    <tr>\n",
       "      <th>19702</th>\n",
       "      <td>hu_CD163;lu_GENE18808</td>\n",
       "      <td>hu_CD163;lu_GENE9220</td>\n",
       "      <td>0.000000</td>\n",
       "      <td>0.882172</td>\n",
       "      <td>0.882172</td>\n",
       "    </tr>\n",
       "    <tr>\n",
       "      <th>19732</th>\n",
       "      <td>hu_CD163;lu_GENE6775</td>\n",
       "      <td>hu_CD163;lu_GENE9220</td>\n",
       "      <td>0.000000</td>\n",
       "      <td>0.882172</td>\n",
       "      <td>0.882172</td>\n",
       "    </tr>\n",
       "    <tr>\n",
       "      <th>19669</th>\n",
       "      <td>hu_CD163;lu_GENE18409</td>\n",
       "      <td>hu_CD163;lu_GENE15346</td>\n",
       "      <td>0.014405</td>\n",
       "      <td>0.895007</td>\n",
       "      <td>0.880602</td>\n",
       "    </tr>\n",
       "    <tr>\n",
       "      <th>50896</th>\n",
       "      <td>hu_FPR3;lu_GENE18758</td>\n",
       "      <td>hu_FPR3;lu_GENE2755</td>\n",
       "      <td>0.000000</td>\n",
       "      <td>0.878009</td>\n",
       "      <td>0.878009</td>\n",
       "    </tr>\n",
       "    <tr>\n",
       "      <th>51079</th>\n",
       "      <td>hu_FPR3;lu_GENE373</td>\n",
       "      <td>hu_FPR3;lu_GENE2755</td>\n",
       "      <td>0.000000</td>\n",
       "      <td>0.878009</td>\n",
       "      <td>0.878009</td>\n",
       "    </tr>\n",
       "    <tr>\n",
       "      <th>50713</th>\n",
       "      <td>hu_FPR3;lu_GENE18585</td>\n",
       "      <td>hu_FPR3;lu_GENE2755</td>\n",
       "      <td>0.000000</td>\n",
       "      <td>0.878009</td>\n",
       "      <td>0.878009</td>\n",
       "    </tr>\n",
       "    <tr>\n",
       "      <th>233159</th>\n",
       "      <td>lu_GENE2755;hu_CXCR3</td>\n",
       "      <td>lu_GENE2755;hu_FPR3</td>\n",
       "      <td>0.000000</td>\n",
       "      <td>0.878009</td>\n",
       "      <td>0.878009</td>\n",
       "    </tr>\n",
       "    <tr>\n",
       "      <th>51262</th>\n",
       "      <td>hu_FPR3;lu_GENE18311</td>\n",
       "      <td>hu_FPR3;lu_GENE2755</td>\n",
       "      <td>0.000000</td>\n",
       "      <td>0.878009</td>\n",
       "      <td>0.878009</td>\n",
       "    </tr>\n",
       "    <tr>\n",
       "      <th>19792</th>\n",
       "      <td>hu_CD163;lu_GENE456</td>\n",
       "      <td>hu_CD163;lu_GENE9220</td>\n",
       "      <td>0.005707</td>\n",
       "      <td>0.882172</td>\n",
       "      <td>0.876465</td>\n",
       "    </tr>\n",
       "    <tr>\n",
       "      <th>19672</th>\n",
       "      <td>hu_CD163;lu_GENE18409</td>\n",
       "      <td>hu_CD163;lu_GENE9220</td>\n",
       "      <td>0.014405</td>\n",
       "      <td>0.882172</td>\n",
       "      <td>0.867767</td>\n",
       "    </tr>\n",
       "    <tr>\n",
       "      <th>51263</th>\n",
       "      <td>hu_FPR3;lu_GENE18311</td>\n",
       "      <td>hu_FPR3;lu_GENE2855</td>\n",
       "      <td>0.000000</td>\n",
       "      <td>0.857891</td>\n",
       "      <td>0.857891</td>\n",
       "    </tr>\n",
       "    <tr>\n",
       "      <th>50897</th>\n",
       "      <td>hu_FPR3;lu_GENE18758</td>\n",
       "      <td>hu_FPR3;lu_GENE2855</td>\n",
       "      <td>0.000000</td>\n",
       "      <td>0.857891</td>\n",
       "      <td>0.857891</td>\n",
       "    </tr>\n",
       "    <tr>\n",
       "      <th>233254</th>\n",
       "      <td>lu_GENE2855;hu_CXCR3</td>\n",
       "      <td>lu_GENE2855;hu_FPR3</td>\n",
       "      <td>0.000000</td>\n",
       "      <td>0.857891</td>\n",
       "      <td>0.857891</td>\n",
       "    </tr>\n",
       "    <tr>\n",
       "      <th>51080</th>\n",
       "      <td>hu_FPR3;lu_GENE373</td>\n",
       "      <td>hu_FPR3;lu_GENE2855</td>\n",
       "      <td>0.000000</td>\n",
       "      <td>0.857891</td>\n",
       "      <td>0.857891</td>\n",
       "    </tr>\n",
       "    <tr>\n",
       "      <th>50714</th>\n",
       "      <td>hu_FPR3;lu_GENE18585</td>\n",
       "      <td>hu_FPR3;lu_GENE2855</td>\n",
       "      <td>0.000000</td>\n",
       "      <td>0.857891</td>\n",
       "      <td>0.857891</td>\n",
       "    </tr>\n",
       "    <tr>\n",
       "      <th>85964</th>\n",
       "      <td>hu_MATK;lu_GENE5295</td>\n",
       "      <td>hu_MATK;lu_GENE5627</td>\n",
       "      <td>0.000000</td>\n",
       "      <td>0.852536</td>\n",
       "      <td>0.852536</td>\n",
       "    </tr>\n",
       "    <tr>\n",
       "      <th>253194</th>\n",
       "      <td>lu_GENE7997;hu_SPIB</td>\n",
       "      <td>lu_GENE7997;hu_SPI1</td>\n",
       "      <td>0.000000</td>\n",
       "      <td>0.849686</td>\n",
       "      <td>0.849686</td>\n",
       "    </tr>\n",
       "  </tbody>\n",
       "</table>\n",
       "</div>"
      ],
      "text/plain": [
       "               ortholog pairs          paralog pairs  ortholog corrs  \\\n",
       "19684   hu_CD163;lu_GENE18521  hu_CD163;lu_GENE15346        0.000000   \n",
       "19699   hu_CD163;lu_GENE18808  hu_CD163;lu_GENE15346        0.000000   \n",
       "19774    hu_CD163;lu_GENE2067  hu_CD163;lu_GENE15346        0.000000   \n",
       "19834    hu_CD163;lu_GENE6273  hu_CD163;lu_GENE15346        0.000000   \n",
       "19714   hu_CD163;lu_GENE18514  hu_CD163;lu_GENE15346        0.000000   \n",
       "19849   hu_CD163;lu_GENE18515  hu_CD163;lu_GENE15346        0.000000   \n",
       "19729    hu_CD163;lu_GENE6775  hu_CD163;lu_GENE15346        0.000000   \n",
       "19789     hu_CD163;lu_GENE456  hu_CD163;lu_GENE15346        0.005707   \n",
       "19777    hu_CD163;lu_GENE2067   hu_CD163;lu_GENE9220        0.000000   \n",
       "19687   hu_CD163;lu_GENE18521   hu_CD163;lu_GENE9220        0.000000   \n",
       "19837    hu_CD163;lu_GENE6273   hu_CD163;lu_GENE9220        0.000000   \n",
       "19852   hu_CD163;lu_GENE18515   hu_CD163;lu_GENE9220        0.000000   \n",
       "19717   hu_CD163;lu_GENE18514   hu_CD163;lu_GENE9220        0.000000   \n",
       "19702   hu_CD163;lu_GENE18808   hu_CD163;lu_GENE9220        0.000000   \n",
       "19732    hu_CD163;lu_GENE6775   hu_CD163;lu_GENE9220        0.000000   \n",
       "19669   hu_CD163;lu_GENE18409  hu_CD163;lu_GENE15346        0.014405   \n",
       "50896    hu_FPR3;lu_GENE18758    hu_FPR3;lu_GENE2755        0.000000   \n",
       "51079      hu_FPR3;lu_GENE373    hu_FPR3;lu_GENE2755        0.000000   \n",
       "50713    hu_FPR3;lu_GENE18585    hu_FPR3;lu_GENE2755        0.000000   \n",
       "233159   lu_GENE2755;hu_CXCR3    lu_GENE2755;hu_FPR3        0.000000   \n",
       "51262    hu_FPR3;lu_GENE18311    hu_FPR3;lu_GENE2755        0.000000   \n",
       "19792     hu_CD163;lu_GENE456   hu_CD163;lu_GENE9220        0.005707   \n",
       "19672   hu_CD163;lu_GENE18409   hu_CD163;lu_GENE9220        0.014405   \n",
       "51263    hu_FPR3;lu_GENE18311    hu_FPR3;lu_GENE2855        0.000000   \n",
       "50897    hu_FPR3;lu_GENE18758    hu_FPR3;lu_GENE2855        0.000000   \n",
       "233254   lu_GENE2855;hu_CXCR3    lu_GENE2855;hu_FPR3        0.000000   \n",
       "51080      hu_FPR3;lu_GENE373    hu_FPR3;lu_GENE2855        0.000000   \n",
       "50714    hu_FPR3;lu_GENE18585    hu_FPR3;lu_GENE2855        0.000000   \n",
       "85964     hu_MATK;lu_GENE5295    hu_MATK;lu_GENE5627        0.000000   \n",
       "253194    lu_GENE7997;hu_SPIB    lu_GENE7997;hu_SPI1        0.000000   \n",
       "\n",
       "        paralog corrs  corr diff  \n",
       "19684        0.895007   0.895007  \n",
       "19699        0.895007   0.895007  \n",
       "19774        0.895007   0.895007  \n",
       "19834        0.895007   0.895007  \n",
       "19714        0.895007   0.895007  \n",
       "19849        0.895007   0.895007  \n",
       "19729        0.895007   0.895007  \n",
       "19789        0.895007   0.889300  \n",
       "19777        0.882172   0.882172  \n",
       "19687        0.882172   0.882172  \n",
       "19837        0.882172   0.882172  \n",
       "19852        0.882172   0.882172  \n",
       "19717        0.882172   0.882172  \n",
       "19702        0.882172   0.882172  \n",
       "19732        0.882172   0.882172  \n",
       "19669        0.895007   0.880602  \n",
       "50896        0.878009   0.878009  \n",
       "51079        0.878009   0.878009  \n",
       "50713        0.878009   0.878009  \n",
       "233159       0.878009   0.878009  \n",
       "51262        0.878009   0.878009  \n",
       "19792        0.882172   0.876465  \n",
       "19672        0.882172   0.867767  \n",
       "51263        0.857891   0.857891  \n",
       "50897        0.857891   0.857891  \n",
       "233254       0.857891   0.857891  \n",
       "51080        0.857891   0.857891  \n",
       "50714        0.857891   0.857891  \n",
       "85964        0.852536   0.852536  \n",
       "253194       0.849686   0.849686  "
      ]
     },
     "execution_count": 144,
     "metadata": {},
     "output_type": "execute_result"
    }
   ],
   "source": [
    "Psubs.head(30)"
   ]
  },
  {
   "cell_type": "code",
   "execution_count": 63,
   "metadata": {},
   "outputs": [],
   "source": [
    "import numpy as np\n",
    "ortholog_pairs = np.sort(ortholog_pairs,axis=1)"
   ]
  },
  {
   "cell_type": "code",
   "execution_count": 28,
   "metadata": {},
   "outputs": [],
   "source": [
    "human = pd.read_csv('02.eggNOG/human.annotations.tsv',sep='\\t',index_col=0)"
   ]
  },
  {
   "cell_type": "code",
   "execution_count": 26,
   "metadata": {},
   "outputs": [],
   "source": [
    "import re\n",
    "human.index = [re.sub(r'\\.','_',x) for x in human.index.to_list()]"
   ]
  },
  {
   "cell_type": "code",
   "execution_count": 12,
   "metadata": {},
   "outputs": [],
   "source": [
    "human = pd.read_csv('02.eggNOG/human.annotations.tsv',sep='\\t',index_col=0)\n",
    "lungfish = pd.read_csv('02.eggNOG/lungfish.annotations.tsv',sep='\\t',index_col=0)"
   ]
  },
  {
   "cell_type": "code",
   "execution_count": 124,
   "metadata": {},
   "outputs": [],
   "source": [
    "EGGs={'lu':lungfish,'hu':human}\n",
    "ortholog_pairs = convert_eggnog_to_homologs(sm,EGGs,og_key='eggNOG_OGs',taxon=7742) #7711 is the taxon code for Chordata\n",
    "paralog_pairs = convert_eggnog_to_homologs(sm,EGGs,og_key='eggNOG_OGs',taxon=7711) #7742 is the taxon code for Vertebrate\n",
    "# Psubs = ParalogSubstitutions(sm,ortholog_pairs,paralog_pairs=paralog_pairs,psub_thr=0.1)"
   ]
  },
  {
   "cell_type": "code",
   "execution_count": 125,
   "metadata": {},
   "outputs": [
    {
     "data": {
      "text/plain": [
       "18290"
      ]
     },
     "execution_count": 125,
     "metadata": {},
     "output_type": "execute_result"
    }
   ],
   "source": []
  }
 ],
 "metadata": {
  "kernelspec": {
   "display_name": "SAMap",
   "language": "python",
   "name": "python3"
  },
  "language_info": {
   "codemirror_mode": {
    "name": "ipython",
    "version": 3
   },
   "file_extension": ".py",
   "mimetype": "text/x-python",
   "name": "python",
   "nbconvert_exporter": "python",
   "pygments_lexer": "ipython3",
   "version": "3.7.12"
  },
  "orig_nbformat": 4,
  "vscode": {
   "interpreter": {
    "hash": "786742ee61941b48d5d675aa5e8c206d633690127c6b390494e922735e225373"
   }
  }
 },
 "nbformat": 4,
 "nbformat_minor": 2
}

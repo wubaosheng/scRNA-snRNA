{
 "cells": [
  {
   "cell_type": "code",
   "execution_count": 1,
   "metadata": {},
   "outputs": [],
   "source": [
    "import os,re,sys\n",
    "import scanpy as sc\n",
    "os.chdir('H:/002.singcell/01.liver/10.mutileSpecies/05.SAMap/01.h5ad_counts')"
   ]
  },
  {
   "cell_type": "code",
   "execution_count": 3,
   "metadata": {},
   "outputs": [],
   "source": [
    "frog=sc.read('./frog_counts_pr.h5ad')"
   ]
  },
  {
   "cell_type": "code",
   "execution_count": 4,
   "metadata": {},
   "outputs": [],
   "source": [
    "dogshark=sc.read('./dogshark_counts_pr.h5ad')"
   ]
  },
  {
   "cell_type": "code",
   "execution_count": 5,
   "metadata": {},
   "outputs": [],
   "source": [
    "bichir=sc.read('./bichir_counts_pr.h5ad')"
   ]
  },
  {
   "cell_type": "code",
   "execution_count": 2,
   "metadata": {},
   "outputs": [],
   "source": [
    "lancelet=sc.read('./lancelet_counts.h5ad')"
   ]
  },
  {
   "cell_type": "code",
   "execution_count": 7,
   "metadata": {},
   "outputs": [],
   "source": [
    "lungfish = sc.read('./lungfish_counts_pr.h5ad')"
   ]
  },
  {
   "cell_type": "code",
   "execution_count": 8,
   "metadata": {},
   "outputs": [],
   "source": [
    "lamprey = sc.read('./lamprey_counts_pr.h5ad')"
   ]
  },
  {
   "cell_type": "code",
   "execution_count": 9,
   "metadata": {},
   "outputs": [],
   "source": [
    "human = sc.read('./human_counts_pr.h5ad')"
   ]
  },
  {
   "cell_type": "code",
   "execution_count": 3,
   "metadata": {},
   "outputs": [
    {
     "name": "stdout",
     "output_type": "stream",
     "text": [
      "<class 'pandas.core.frame.DataFrame'>\n",
      "Index: 147458 entries, AAACCCAAGACCTCCG-1-lancelet1 to TTTGTTGTCTTACCGC-1-lancelet2\n",
      "Data columns (total 4 columns):\n",
      " #   Column     Non-Null Count   Dtype   \n",
      "---  ------     --------------   -----   \n",
      " 0   sample     147458 non-null  category\n",
      " 1   cell type  147458 non-null  category\n",
      " 2   cluster    147458 non-null  category\n",
      " 3   species    147458 non-null  category\n",
      "dtypes: category(4)\n",
      "memory usage: 6.7+ MB\n"
     ]
    }
   ],
   "source": [
    "lancelet.obs.info()"
   ]
  },
  {
   "cell_type": "code",
   "execution_count": 11,
   "metadata": {},
   "outputs": [],
   "source": [
    "adata=lungfish.copy()"
   ]
  },
  {
   "cell_type": "code",
   "execution_count": 12,
   "metadata": {},
   "outputs": [],
   "source": [
    "adata.obs=adata.obs.astype('str')"
   ]
  },
  {
   "cell_type": "code",
   "execution_count": 13,
   "metadata": {},
   "outputs": [
    {
     "name": "stdout",
     "output_type": "stream",
     "text": [
      "<class 'pandas.core.frame.DataFrame'>\n",
      "Index: 5823 entries, AAACCCAAGGCTAGCA-1-lungfish1 to TTTGTTGTCATTACCT-1-lungfish2\n",
      "Data columns (total 5 columns):\n",
      " #   Column           Non-Null Count  Dtype \n",
      "---  ------           --------------  ----- \n",
      " 0   sample           5823 non-null   object\n",
      " 1   cell type        5823 non-null   object\n",
      " 2   cluster          5823 non-null   object\n",
      " 3   species          5823 non-null   object\n",
      " 4   leiden_clusters  5823 non-null   object\n",
      "dtypes: object(5)\n",
      "memory usage: 273.0+ KB\n"
     ]
    }
   ],
   "source": [
    "adata.obs.info()"
   ]
  },
  {
   "cell_type": "code",
   "execution_count": 63,
   "metadata": {},
   "outputs": [],
   "source": [
    "info = ['sample','cluster','species','cell type']"
   ]
  },
  {
   "cell_type": "code",
   "execution_count": 54,
   "metadata": {},
   "outputs": [],
   "source": [
    "def dropobs(adata,obs,sp=''):\n",
    "    for i in adata.obs.columns:\n",
    "        if i not in obs:\n",
    "            del adata.obs[i]\n",
    "        else:\n",
    "            adata.obs[i] = adata.obs[i].astype('category')\n",
    "    del adata.var\n",
    "    del adata.varm\n",
    "    del adata.obsm\n",
    "    del adata.uns\n",
    "    del adata.obsp\n",
    "    print(adata)\n",
    "    adata.write(f'H:/002.singcell/01.liver/10.mutileSpecies/05.SAMap/01.h5ad_counts/{sp}_counts.h5ad')\n",
    "    return None"
   ]
  },
  {
   "cell_type": "code",
   "execution_count": 71,
   "metadata": {},
   "outputs": [
    {
     "name": "stdout",
     "output_type": "stream",
     "text": [
      "AnnData object with n_obs × n_vars = 36042 × 22425\n",
      "    obs: 'sample', 'cell type', 'cluster', 'species'\n",
      "    layers: 'CPM', 'counts'\n"
     ]
    }
   ],
   "source": [
    "dropobs(human,info,sp='human')"
   ]
  },
  {
   "cell_type": "code",
   "execution_count": 21,
   "metadata": {},
   "outputs": [],
   "source": [
    "lancelet.obs=lancelet.obs.astype('str')\n",
    "lancelet.write('./lancelet_counts_pr.h5ad')"
   ]
  },
  {
   "cell_type": "code",
   "execution_count": 24,
   "metadata": {},
   "outputs": [
    {
     "data": {
      "text/plain": [
       "AnnData object with n_obs × n_vars = 17921 × 16460\n",
       "    obs: 'sample', 'species', 'cluster', 'leiden_clusters'\n",
       "    var: 'mask_genes', 'means', 'variances', 'weights', 'spatial_dispersions', 'mean_correction'\n",
       "    uns: 'dimred_indices', 'path_to_file', 'preprocess_args', 'ranked_genes', 'run_args', 'cluster_colors'\n",
       "    obsm: 'X_pca', 'X_processed', 'X_umap'\n",
       "    varm: 'PCs', 'PCs_SAMap'\n",
       "    layers: 'X_disp'\n",
       "    obsp: 'connectivities', 'distances', 'nnm'"
      ]
     },
     "execution_count": 24,
     "metadata": {},
     "output_type": "execute_result"
    }
   ],
   "source": [
    "frog"
   ]
  },
  {
   "cell_type": "code",
   "execution_count": 4,
   "metadata": {},
   "outputs": [],
   "source": [
    "\n",
    "lancelet.var_names = ['LOC'+ x if '1184' in x else x for x in lancelet.var_names ]"
   ]
  },
  {
   "cell_type": "code",
   "execution_count": 5,
   "metadata": {},
   "outputs": [
    {
     "data": {
      "text/plain": [
       "Index(['LOC118403007', 'LOC118403009', 'LOC118403022', 'LOC118403023',\n",
       "       'LOC118403030', 'LOC118403032', 'LOC118403034', 'LOC118403035',\n",
       "       'LOC118403036', 'LOC118403039',\n",
       "       ...\n",
       "       'LOC118424230', 'LOC118410003', 'LOC118409445', 'LOC118412542',\n",
       "       'LOC118422649', 'LOC118430966', 'LOC118411032', 'LOC118415116',\n",
       "       'LOC118432161', 'LOC118422281'],\n",
       "      dtype='object', length=27957)"
      ]
     },
     "execution_count": 5,
     "metadata": {},
     "output_type": "execute_result"
    }
   ],
   "source": [
    "lancelet.var_names"
   ]
  },
  {
   "cell_type": "code",
   "execution_count": 36,
   "metadata": {},
   "outputs": [],
   "source": [
    "lancelet.write('./lancelet_counts.h5ad')"
   ]
  }
 ],
 "metadata": {
  "kernelspec": {
   "display_name": "Python 3",
   "language": "python",
   "name": "python3"
  },
  "language_info": {
   "codemirror_mode": {
    "name": "ipython",
    "version": 3
   },
   "file_extension": ".py",
   "mimetype": "text/x-python",
   "name": "python",
   "nbconvert_exporter": "python",
   "pygments_lexer": "ipython3",
   "version": "3.9.7"
  },
  "orig_nbformat": 4,
  "vscode": {
   "interpreter": {
    "hash": "465216ea95666eee95d2a1ca81c5f360fb28f39fce6047b65ec63b03b08cc0f7"
   }
  }
 },
 "nbformat": 4,
 "nbformat_minor": 2
}

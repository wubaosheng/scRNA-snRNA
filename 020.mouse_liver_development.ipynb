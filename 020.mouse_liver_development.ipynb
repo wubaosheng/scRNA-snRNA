{
 "cells": [
  {
   "cell_type": "code",
   "execution_count": 49,
   "metadata": {},
   "outputs": [
    {
     "data": {
      "text/plain": [
       "'\\n@文件        :020.mouse_liver_development.ipynb\\n@说明        :used to analyse the mouse liver development data\\n@时间        :2023/08/20 10:37:35\\n@作者        :Wu Baosheng\\n@版本        :1.0\\n'"
      ]
     },
     "execution_count": 49,
     "metadata": {},
     "output_type": "execute_result"
    }
   ],
   "source": [
    "#!/usr/bin/env python\n",
    "# -*- encoding: utf-8 -*-\n",
    "'''\n",
    "@文件        :020.mouse_liver_development.ipynb\n",
    "@说明        :used to analyse the mouse liver development data\n",
    "@时间        :2023/08/20 10:37:35\n",
    "@作者        :Wu Baosheng\n",
    "@版本        :1.0\n",
    "'''"
   ]
  },
  {
   "cell_type": "code",
   "execution_count": 1,
   "metadata": {},
   "outputs": [],
   "source": [
    "import os, sys, re, anndata\n",
    "import scanpy as sc\n",
    "import scanpy.external as sce\n",
    "from numpy.random import seed\n",
    "import pandas as pd\n",
    "import numpy as np\n",
    "from anndata import read_mtx\n",
    "import warnings\n",
    "import matplotlib.pyplot as plt\n",
    "import matplotlib as mpl\n",
    "import seaborn as sns\n",
    "import plotly.express as px\n",
    "import plotly.graph_objects as go\n",
    "import plotly.io as pio\n",
    "mpl.rcParams['pdf.fonttype'] = 42\n",
    "mpl.rcParams['ps.fonttype'] = 42\n",
    "def read_geneExpress(file_path=\"\", sep=\"\\t\", header=0, index_col=0, min_genes=200, max_genes=2500, min_cells=3):\n",
    "    df = pd.read_csv(file_path, sep=sep, header=header, index_col=index_col).T\n",
    "    cellinfo = pd.DataFrame(df.index, index=df.index, columns=['sample_index'])\n",
    "    geneinfo = pd.DataFrame(df.columns, index=df.columns, columns=['genes_index'])\n",
    "    adata = sc.AnnData(df, obs=cellinfo, var=geneinfo)\n",
    "    adata.var_names = [i.upper() for i in list(adata.var_names)]\n",
    "    #    sc.pp.filter_cells(adata, min_genes=min_genes)\n",
    "    #    sc.pp.filter_cells(adata, max_genes=max_genes)\n",
    "    #    sc.pp.filter_genes(adata, min_cells=min_cells)\n",
    "    #    sc.pp.normalize_total(adata, inplace=True)\n",
    "    #    sc.pp.log1p(adata)\n",
    "    return adata\n",
    "os.chdir('H:/002.singcell/01.liver/10.mutileSpecies/05.SAMap/014.mouse_liver_development')"
   ]
  },
  {
   "cell_type": "code",
   "execution_count": 25,
   "metadata": {},
   "outputs": [
    {
     "name": "stderr",
     "output_type": "stream",
     "text": [
      "C:\\Users\\wubaosheng\\AppData\\Local\\Temp\\ipykernel_6636\\1595173753.py:21: FutureWarning: X.dtype being converted to np.float32 from int64. In the next version of anndata (0.9) conversion will not be automatic. Pass dtype explicitly to avoid this warning. Pass `AnnData(X, dtype=X.dtype, ...)` to get the future behavour.\n",
      "  adata = sc.AnnData(df, obs=cellinfo, var=geneinfo)\n"
     ]
    }
   ],
   "source": [
    "adata = read_geneExpress('./GSE136689_Counts_Matrix_AllCells_E8.5_E9.0_E9.5.txt')"
   ]
  },
  {
   "cell_type": "code",
   "execution_count": 26,
   "metadata": {},
   "outputs": [],
   "source": [
    "annotation = pd.read_csv('./GSE136689_MetaFile_AllCells_E8.5_E9.0_E9.5_Final.txt',sep='\\t',index_col=0)"
   ]
  },
  {
   "cell_type": "code",
   "execution_count": 27,
   "metadata": {},
   "outputs": [],
   "source": [
    "adata.obs['stage'] = annotation['Stages'].astype('category')\n",
    "adata.obs['cell_type'] = annotation['LineageAnnotations'].astype('category')\n"
   ]
  },
  {
   "cell_type": "code",
   "execution_count": 28,
   "metadata": {},
   "outputs": [],
   "source": [
    "adata.layers[\"counts\"] = adata.X.copy()"
   ]
  },
  {
   "cell_type": "code",
   "execution_count": 29,
   "metadata": {},
   "outputs": [],
   "source": [
    "adata.obs['n_counts'] = adata.X.sum(axis=1)"
   ]
  },
  {
   "cell_type": "code",
   "execution_count": 121,
   "metadata": {},
   "outputs": [],
   "source": [
    "sc.pp.normalize_total(adata,target_sum=1e4)"
   ]
  },
  {
   "cell_type": "code",
   "execution_count": 122,
   "metadata": {},
   "outputs": [],
   "source": [
    "adata.layers[\"CPM\"]=adata.X.copy()"
   ]
  },
  {
   "cell_type": "code",
   "execution_count": 125,
   "metadata": {},
   "outputs": [],
   "source": [
    "adata.var['genes_index'] = adata.var['genes_index'].astype('category')"
   ]
  },
  {
   "cell_type": "code",
   "execution_count": 126,
   "metadata": {},
   "outputs": [],
   "source": [
    "adata.write('./mouse_liver_development.h5ad')"
   ]
  },
  {
   "cell_type": "code",
   "execution_count": 58,
   "metadata": {},
   "outputs": [],
   "source": [
    "sc.pp.log1p(adata)\n",
    "adata.raw = adata"
   ]
  },
  {
   "cell_type": "code",
   "execution_count": 59,
   "metadata": {},
   "outputs": [],
   "source": [
    "sc.pp.highly_variable_genes(adata, flavor='seurat', n_top_genes=2000, inplace=True,batch_key=\"stage\")"
   ]
  },
  {
   "cell_type": "code",
   "execution_count": 60,
   "metadata": {},
   "outputs": [
    {
     "data": {
      "image/png": "[encoded data removed]",
      "text/plain": [
       "<Figure size 432x288 with 1 Axes>"
      ]
     },
     "metadata": {
      "needs_background": "light"
     },
     "output_type": "display_data"
    }
   ],
   "source": [
    "sc.pp.scale(adata)\n",
    "sc.pp.pca(adata, n_comps=50, svd_solver='arpack',use_highly_variable=True)\n",
    "sc.pl.pca_variance_ratio(adata, log=True)"
   ]
  },
  {
   "cell_type": "code",
   "execution_count": 73,
   "metadata": {},
   "outputs": [
    {
     "name": "stderr",
     "output_type": "stream",
     "text": [
      "2023-08-20 11:58:53,076 - harmonypy - INFO - Iteration 1 of 20\n",
      "2023-08-20 11:59:02,570 - harmonypy - INFO - Iteration 2 of 20\n",
      "2023-08-20 11:59:12,275 - harmonypy - INFO - Iteration 3 of 20\n",
      "2023-08-20 11:59:22,392 - harmonypy - INFO - Iteration 4 of 20\n",
      "2023-08-20 11:59:32,062 - harmonypy - INFO - Iteration 5 of 20\n",
      "2023-08-20 11:59:40,214 - harmonypy - INFO - Iteration 6 of 20\n",
      "2023-08-20 11:59:49,583 - harmonypy - INFO - Iteration 7 of 20\n",
      "2023-08-20 11:59:59,118 - harmonypy - INFO - Iteration 8 of 20\n",
      "2023-08-20 12:00:06,121 - harmonypy - INFO - Iteration 9 of 20\n",
      "2023-08-20 12:00:13,652 - harmonypy - INFO - Iteration 10 of 20\n",
      "2023-08-20 12:00:19,788 - harmonypy - INFO - Iteration 11 of 20\n",
      "2023-08-20 12:00:25,965 - harmonypy - INFO - Iteration 12 of 20\n",
      "2023-08-20 12:00:31,667 - harmonypy - INFO - Iteration 13 of 20\n",
      "2023-08-20 12:00:37,535 - harmonypy - INFO - Iteration 14 of 20\n",
      "2023-08-20 12:00:43,248 - harmonypy - INFO - Iteration 15 of 20\n",
      "2023-08-20 12:00:49,485 - harmonypy - INFO - Iteration 16 of 20\n",
      "2023-08-20 12:00:55,445 - harmonypy - INFO - Converged after 16 iterations\n"
     ]
    }
   ],
   "source": [
    "sce.pp.harmony_integrate(adata, key=\"stage\",max_iter_harmony=20)"
   ]
  },
  {
   "cell_type": "code",
   "execution_count": 74,
   "metadata": {},
   "outputs": [],
   "source": [
    "sc.pp.neighbors(adata,n_neighbors=15, n_pcs=40,use_rep=\"X_pca_harmony\")"
   ]
  },
  {
   "cell_type": "code",
   "execution_count": 75,
   "metadata": {},
   "outputs": [],
   "source": [
    "sc.tl.umap(adata)"
   ]
  },
  {
   "cell_type": "code",
   "execution_count": 76,
   "metadata": {},
   "outputs": [
    {
     "data": {
      "image/png": "[encoded data removed]",
      "text/plain": [
       "<Figure size 989.28x288 with 2 Axes>"
      ]
     },
     "metadata": {},
     "output_type": "display_data"
    }
   ],
   "source": [
    "sc.pl.umap(adata, color=['stage','cell_type'], title=[\"stage\",'cell_type'], palette=sc.pl.palettes.default_20, show=True, alpha=1,size=20,add_outline=True,outline_color=[\"white\",\"white\"],frameon=False)"
   ]
  },
  {
   "cell_type": "code",
   "execution_count": 2,
   "metadata": {},
   "outputs": [],
   "source": [
    "mouse = pd.read_csv('H:/002.singcell/01.liver/10.mutileSpecies/05.SAMap/13.homoGenes/mouse.homoGenes.txt',sep='\\t',header=0,index_col=0)\n",
    "mouse.fillna('no value', inplace=True)"
   ]
  },
  {
   "cell_type": "code",
   "execution_count": 3,
   "metadata": {},
   "outputs": [],
   "source": [
    "mouse_wgd = []\n",
    "for index, row in mouse.iterrows():\n",
    "    if row['lancelet']== 'no value':\n",
    "        line = row['mouse'].split(',')\n",
    "        line2 = [x.strip() for x in line]\n",
    "        mouse_wgd = mouse_wgd + line2\n",
    "    else:\n",
    "        tmp =len(row['mouse'].split(','))-len(row['lancelet'].split(','))\n",
    "        line = row['mouse'].split(',')\n",
    "        line2 = [x.strip() for x in line]\n",
    "        mouse_wgd = mouse_wgd + line2[tmp: ]\n",
    "\n",
    "\n",
    "    # line = i.split(',')\n",
    "    # line2 = [x.strip() for x in line]\n",
    "    # human_wgd = human_wgd + line2[0: ]"
   ]
  },
  {
   "cell_type": "code",
   "execution_count": 4,
   "metadata": {},
   "outputs": [
    {
     "data": {
      "text/plain": [
       "5465"
      ]
     },
     "execution_count": 4,
     "metadata": {},
     "output_type": "execute_result"
    }
   ],
   "source": [
    "len(mouse_wgd)"
   ]
  },
  {
   "cell_type": "code",
   "execution_count": 9,
   "metadata": {},
   "outputs": [],
   "source": [
    "df_R1=pd.read_csv('H:/002.singcell/01.liver/10.mutileSpecies/05.SAMap/13.homoGenes/mouse_2R.txt',sep='\\t',header=0,index_col=0)\n",
    "df_R1.fillna('no value', inplace=True)\n",
    "R2 = []\n",
    "for index, row in df_R1.iterrows():\n",
    "    if row['lamprey']== 'no value':\n",
    "        line = row['mouse'].split(',')\n",
    "        line2 = [x.strip() for x in line]\n",
    "        R2 = R2 + line2\n",
    "    else:\n",
    "        tmp =len(row['mouse'].split(','))-len(row['lamprey'].split(','))\n",
    "        line = row['mouse'].split(',')\n",
    "        line2 = [x.strip() for x in line]\n",
    "        R2 = R2 + line2[tmp: ]"
   ]
  },
  {
   "cell_type": "code",
   "execution_count": 6,
   "metadata": {},
   "outputs": [],
   "source": [
    "R1=[x for x in mouse_wgd if x not in R2]\n",
    "R1=[x.upper() for x in R1]\n",
    "R2=[x.upper() for x in R2]\n"
   ]
  },
  {
   "cell_type": "code",
   "execution_count": 7,
   "metadata": {},
   "outputs": [
    {
     "data": {
      "text/plain": [
       "2058"
      ]
     },
     "execution_count": 7,
     "metadata": {},
     "output_type": "execute_result"
    }
   ],
   "source": [
    "len(R1)"
   ]
  },
  {
   "cell_type": "code",
   "execution_count": 8,
   "metadata": {},
   "outputs": [
    {
     "data": {
      "text/html": [
       "<div>\n",
       "<style scoped>\n",
       "    .dataframe tbody tr th:only-of-type {\n",
       "        vertical-align: middle;\n",
       "    }\n",
       "\n",
       "    .dataframe tbody tr th {\n",
       "        vertical-align: top;\n",
       "    }\n",
       "\n",
       "    .dataframe thead th {\n",
       "        text-align: right;\n",
       "    }\n",
       "</style>\n",
       "<table border=\"1\" class=\"dataframe\">\n",
       "  <thead>\n",
       "    <tr style=\"text-align: right;\">\n",
       "      <th></th>\n",
       "      <th>Orthogroup</th>\n",
       "      <th>bichir</th>\n",
       "      <th>dogshark</th>\n",
       "      <th>frog</th>\n",
       "      <th>human</th>\n",
       "      <th>lamprey</th>\n",
       "      <th>lancelet</th>\n",
       "      <th>lungfish</th>\n",
       "      <th>mouse</th>\n",
       "    </tr>\n",
       "  </thead>\n",
       "  <tbody>\n",
       "    <tr>\n",
       "      <th>52</th>\n",
       "      <td>OG0000052</td>\n",
       "      <td>BICHIR120524912, BICHIR120524913, BICHIR120524...</td>\n",
       "      <td>DOGSHARK010424, DOGSHARK021135, DOGSHARK021136...</td>\n",
       "      <td>FROG001044, FROG001841, FROG033843, FROG033849...</td>\n",
       "      <td>KRT1, KRT2, KRT3, KRT5, KRT6A, KRT6B, KRT6C, K...</td>\n",
       "      <td>QSM008425, QSM020967, QSM020971, QSM020973, QS...</td>\n",
       "      <td>LOC118403903, LOC118403905</td>\n",
       "      <td>GENE15525, GENE18968, GENE19705, GENE19799, GE...</td>\n",
       "      <td>GM5414, GM5478, KRT1, KRT2, KRT4, KRT5, KRT6A,...</td>\n",
       "    </tr>\n",
       "    <tr>\n",
       "      <th>56</th>\n",
       "      <td>OG0000056</td>\n",
       "      <td>BICHIR120519198, BICHIR120519220, BICHIR120519...</td>\n",
       "      <td>DOGSHARK000635, DOGSHARK015355, DOGSHARK015356...</td>\n",
       "      <td>FROG009849, FROG009850, FROG014931, FROG014932...</td>\n",
       "      <td>CRYGA, CRYGB, CRYGC, CRYGD, CRYGS</td>\n",
       "      <td>QSM115387, QSM115465, QSM160329, QSM162033</td>\n",
       "      <td>LOC118412053</td>\n",
       "      <td>GENE10072, GENE10370, GENE10404, GENE15671, GE...</td>\n",
       "      <td>CRYGA, CRYGB, CRYGC, CRYGD, CRYGE, CRYGF, CRYGS</td>\n",
       "    </tr>\n",
       "    <tr>\n",
       "      <th>86</th>\n",
       "      <td>OG0000086</td>\n",
       "      <td>BICHIR120529716, BICHIR120529726, BICHIR120539...</td>\n",
       "      <td>DOGSHARK008810, DOGSHARK008811, DOGSHARK008812...</td>\n",
       "      <td>FROG004166, FROG033798, FROG033799, FROG033805...</td>\n",
       "      <td>AZGP1, HFE, HLA-A, HLA-B, HLA-C, HLA-E, HLA-F,...</td>\n",
       "      <td>no value</td>\n",
       "      <td>no value</td>\n",
       "      <td>GENE1434, GENE19069, GENE19255, GENE19284, GEN...</td>\n",
       "      <td>AZGP1, GM11127, GM7030, GM8909, H2-D1, H2-K1, ...</td>\n",
       "    </tr>\n",
       "    <tr>\n",
       "      <th>88</th>\n",
       "      <td>OG0000088</td>\n",
       "      <td>BICHIR120538155, BICHIR120542357, BICHIR120542...</td>\n",
       "      <td>DOGSHARK006640, DOGSHARK006641, DOGSHARK007269...</td>\n",
       "      <td>F0021, FROG006392, FROG006393, FROG006394, FRO...</td>\n",
       "      <td>CYGB, HBA1, HBA2, HBB, HBD, HBE1, HBG1, HBG2, ...</td>\n",
       "      <td>QSM114803, QSM126551</td>\n",
       "      <td>no value</td>\n",
       "      <td>GENE1132, GENE14234, GENE15680, GENE260, GENE4...</td>\n",
       "      <td>CYGB, HBA-A1, HBA-A2, HBA-X, HBB-BH1, HBB-BH2,...</td>\n",
       "    </tr>\n",
       "    <tr>\n",
       "      <th>99</th>\n",
       "      <td>OG0000099</td>\n",
       "      <td>BICHIR120522245, BICHIR120522246, BICHIR120536...</td>\n",
       "      <td>DOGSHARK005585, DOGSHARK005586, DOGSHARK009579...</td>\n",
       "      <td>FROG004929, FROG004969, FROG033112</td>\n",
       "      <td>IRGC</td>\n",
       "      <td>no value</td>\n",
       "      <td>LOC118424024</td>\n",
       "      <td>GENE17706, GENE17867, GENE18205, GENE18390, GE...</td>\n",
       "      <td>9930111J21RIK1, 9930111J21RIK2, F830016B08RIK,...</td>\n",
       "    </tr>\n",
       "    <tr>\n",
       "      <th>...</th>\n",
       "      <td>...</td>\n",
       "      <td>...</td>\n",
       "      <td>...</td>\n",
       "      <td>...</td>\n",
       "      <td>...</td>\n",
       "      <td>...</td>\n",
       "      <td>...</td>\n",
       "      <td>...</td>\n",
       "      <td>...</td>\n",
       "    </tr>\n",
       "    <tr>\n",
       "      <th>13945</th>\n",
       "      <td>OG0013945</td>\n",
       "      <td>BICHIR120514971</td>\n",
       "      <td>no value</td>\n",
       "      <td>no value</td>\n",
       "      <td>no value</td>\n",
       "      <td>no value</td>\n",
       "      <td>no value</td>\n",
       "      <td>GENE3060</td>\n",
       "      <td>CRYZL2</td>\n",
       "    </tr>\n",
       "    <tr>\n",
       "      <th>13981</th>\n",
       "      <td>OG0013981</td>\n",
       "      <td>no value</td>\n",
       "      <td>DOGSHARK007728</td>\n",
       "      <td>no value</td>\n",
       "      <td>no value</td>\n",
       "      <td>no value</td>\n",
       "      <td>no value</td>\n",
       "      <td>GENE7228</td>\n",
       "      <td>2010106E10RIK</td>\n",
       "    </tr>\n",
       "    <tr>\n",
       "      <th>14068</th>\n",
       "      <td>OG0014068</td>\n",
       "      <td>no value</td>\n",
       "      <td>DOGSHARK012426</td>\n",
       "      <td>FROG048930</td>\n",
       "      <td>no value</td>\n",
       "      <td>no value</td>\n",
       "      <td>no value</td>\n",
       "      <td>no value</td>\n",
       "      <td>NDOR1</td>\n",
       "    </tr>\n",
       "    <tr>\n",
       "      <th>14082</th>\n",
       "      <td>OG0014082</td>\n",
       "      <td>no value</td>\n",
       "      <td>DOGSHARK001146</td>\n",
       "      <td>no value</td>\n",
       "      <td>no value</td>\n",
       "      <td>no value</td>\n",
       "      <td>no value</td>\n",
       "      <td>GENE14317</td>\n",
       "      <td>ARHGAP26</td>\n",
       "    </tr>\n",
       "    <tr>\n",
       "      <th>14098</th>\n",
       "      <td>OG0014098</td>\n",
       "      <td>no value</td>\n",
       "      <td>DOGSHARK006731</td>\n",
       "      <td>FROG021782</td>\n",
       "      <td>no value</td>\n",
       "      <td>no value</td>\n",
       "      <td>no value</td>\n",
       "      <td>no value</td>\n",
       "      <td>GM1113</td>\n",
       "    </tr>\n",
       "  </tbody>\n",
       "</table>\n",
       "<p>3049 rows × 9 columns</p>\n",
       "</div>"
      ],
      "text/plain": [
       "      Orthogroup                                             bichir  \\\n",
       "52     OG0000052  BICHIR120524912, BICHIR120524913, BICHIR120524...   \n",
       "56     OG0000056  BICHIR120519198, BICHIR120519220, BICHIR120519...   \n",
       "86     OG0000086  BICHIR120529716, BICHIR120529726, BICHIR120539...   \n",
       "88     OG0000088  BICHIR120538155, BICHIR120542357, BICHIR120542...   \n",
       "99     OG0000099  BICHIR120522245, BICHIR120522246, BICHIR120536...   \n",
       "...          ...                                                ...   \n",
       "13945  OG0013945                                    BICHIR120514971   \n",
       "13981  OG0013981                                           no value   \n",
       "14068  OG0014068                                           no value   \n",
       "14082  OG0014082                                           no value   \n",
       "14098  OG0014098                                           no value   \n",
       "\n",
       "                                                dogshark  \\\n",
       "52     DOGSHARK010424, DOGSHARK021135, DOGSHARK021136...   \n",
       "56     DOGSHARK000635, DOGSHARK015355, DOGSHARK015356...   \n",
       "86     DOGSHARK008810, DOGSHARK008811, DOGSHARK008812...   \n",
       "88     DOGSHARK006640, DOGSHARK006641, DOGSHARK007269...   \n",
       "99     DOGSHARK005585, DOGSHARK005586, DOGSHARK009579...   \n",
       "...                                                  ...   \n",
       "13945                                           no value   \n",
       "13981                                     DOGSHARK007728   \n",
       "14068                                     DOGSHARK012426   \n",
       "14082                                     DOGSHARK001146   \n",
       "14098                                     DOGSHARK006731   \n",
       "\n",
       "                                                    frog  \\\n",
       "52     FROG001044, FROG001841, FROG033843, FROG033849...   \n",
       "56     FROG009849, FROG009850, FROG014931, FROG014932...   \n",
       "86     FROG004166, FROG033798, FROG033799, FROG033805...   \n",
       "88     F0021, FROG006392, FROG006393, FROG006394, FRO...   \n",
       "99                    FROG004929, FROG004969, FROG033112   \n",
       "...                                                  ...   \n",
       "13945                                           no value   \n",
       "13981                                           no value   \n",
       "14068                                         FROG048930   \n",
       "14082                                           no value   \n",
       "14098                                         FROG021782   \n",
       "\n",
       "                                                   human  \\\n",
       "52     KRT1, KRT2, KRT3, KRT5, KRT6A, KRT6B, KRT6C, K...   \n",
       "56                     CRYGA, CRYGB, CRYGC, CRYGD, CRYGS   \n",
       "86     AZGP1, HFE, HLA-A, HLA-B, HLA-C, HLA-E, HLA-F,...   \n",
       "88     CYGB, HBA1, HBA2, HBB, HBD, HBE1, HBG1, HBG2, ...   \n",
       "99                                                  IRGC   \n",
       "...                                                  ...   \n",
       "13945                                           no value   \n",
       "13981                                           no value   \n",
       "14068                                           no value   \n",
       "14082                                           no value   \n",
       "14098                                           no value   \n",
       "\n",
       "                                                 lamprey  \\\n",
       "52     QSM008425, QSM020967, QSM020971, QSM020973, QS...   \n",
       "56            QSM115387, QSM115465, QSM160329, QSM162033   \n",
       "86                                              no value   \n",
       "88                                  QSM114803, QSM126551   \n",
       "99                                              no value   \n",
       "...                                                  ...   \n",
       "13945                                           no value   \n",
       "13981                                           no value   \n",
       "14068                                           no value   \n",
       "14082                                           no value   \n",
       "14098                                           no value   \n",
       "\n",
       "                         lancelet  \\\n",
       "52     LOC118403903, LOC118403905   \n",
       "56                   LOC118412053   \n",
       "86                       no value   \n",
       "88                       no value   \n",
       "99                   LOC118424024   \n",
       "...                           ...   \n",
       "13945                    no value   \n",
       "13981                    no value   \n",
       "14068                    no value   \n",
       "14082                    no value   \n",
       "14098                    no value   \n",
       "\n",
       "                                                lungfish  \\\n",
       "52     GENE15525, GENE18968, GENE19705, GENE19799, GE...   \n",
       "56     GENE10072, GENE10370, GENE10404, GENE15671, GE...   \n",
       "86     GENE1434, GENE19069, GENE19255, GENE19284, GEN...   \n",
       "88     GENE1132, GENE14234, GENE15680, GENE260, GENE4...   \n",
       "99     GENE17706, GENE17867, GENE18205, GENE18390, GE...   \n",
       "...                                                  ...   \n",
       "13945                                           GENE3060   \n",
       "13981                                           GENE7228   \n",
       "14068                                           no value   \n",
       "14082                                          GENE14317   \n",
       "14098                                           no value   \n",
       "\n",
       "                                                   mouse  \n",
       "52     GM5414, GM5478, KRT1, KRT2, KRT4, KRT5, KRT6A,...  \n",
       "56       CRYGA, CRYGB, CRYGC, CRYGD, CRYGE, CRYGF, CRYGS  \n",
       "86     AZGP1, GM11127, GM7030, GM8909, H2-D1, H2-K1, ...  \n",
       "88     CYGB, HBA-A1, HBA-A2, HBA-X, HBB-BH1, HBB-BH2,...  \n",
       "99     9930111J21RIK1, 9930111J21RIK2, F830016B08RIK,...  \n",
       "...                                                  ...  \n",
       "13945                                             CRYZL2  \n",
       "13981                                      2010106E10RIK  \n",
       "14068                                              NDOR1  \n",
       "14082                                           ARHGAP26  \n",
       "14098                                             GM1113  \n",
       "\n",
       "[3049 rows x 9 columns]"
      ]
     },
     "execution_count": 8,
     "metadata": {},
     "output_type": "execute_result"
    }
   ],
   "source": [
    "df_R1"
   ]
  },
  {
   "cell_type": "code",
   "execution_count": null,
   "metadata": {},
   "outputs": [],
   "source": [
    "len(set(mouse_wgd).intersection(set(adata.var_names[adata.var['highly_variable']])))"
   ]
  },
  {
   "cell_type": "code",
   "execution_count": 40,
   "metadata": {},
   "outputs": [
    {
     "data": {
      "text/plain": [
       "['E8.5', 'Filtered', 'E9.0', 'E9.5Posterior', 'E9.5Anterior']\n",
       "Categories (5, object): ['E8.5', 'Filtered', 'E9.0', 'E9.5Posterior', 'E9.5Anterior']"
      ]
     },
     "execution_count": 40,
     "metadata": {},
     "output_type": "execute_result"
    }
   ],
   "source": [
    "adata.obs['stage'].unique()"
   ]
  },
  {
   "cell_type": "code",
   "execution_count": 42,
   "metadata": {},
   "outputs": [],
   "source": [
    "e8=adata[adata.obs['stage']=='E8.5']"
   ]
  },
  {
   "cell_type": "code",
   "execution_count": 43,
   "metadata": {},
   "outputs": [
    {
     "name": "stdout",
     "output_type": "stream",
     "text": [
      "WARNING: adata.X seems to be already log-transformed.\n"
     ]
    },
    {
     "name": "stderr",
     "output_type": "stream",
     "text": [
      "c:\\Users\\wubaosheng\\AppData\\Local\\Programs\\Python\\Python39\\lib\\site-packages\\anndata\\compat\\_overloaded_dict.py:106: ImplicitModificationWarning: Trying to modify attribute `._uns` of view, initializing view as actual.\n",
      "  self.data[key] = value\n",
      "c:\\Users\\wubaosheng\\AppData\\Local\\Programs\\Python\\Python39\\lib\\site-packages\\anndata\\_core\\anndata.py:1830: UserWarning: Variable names are not unique. To make them unique, call `.var_names_make_unique`.\n",
      "  utils.warn_names_duplicates(\"var\")\n"
     ]
    }
   ],
   "source": [
    "adata.X=adata.layers['counts']\n",
    "sc.pp.normalize_total(adata,target_sum=1e4)\n",
    "sc.pp.log1p(adata)\n",
    "e8=adata[adata.obs['stage']=='E8.5']\n",
    "sc.pp.highly_variable_genes(e8, flavor='seurat', n_top_genes=2000, inplace=True)"
   ]
  },
  {
   "cell_type": "code",
   "execution_count": 44,
   "metadata": {},
   "outputs": [],
   "source": [
    "e8 = e8[:, e8.var['highly_variable']]"
   ]
  },
  {
   "cell_type": "code",
   "execution_count": 160,
   "metadata": {},
   "outputs": [],
   "source": [
    "with open('./e8_high_variable_genes.txt','w') as f:\n",
    "    f.write('\\n'.join(e8.var_names))\n",
    "f.close()"
   ]
  },
  {
   "cell_type": "code",
   "execution_count": 45,
   "metadata": {},
   "outputs": [
    {
     "data": {
      "text/plain": [
       "430"
      ]
     },
     "execution_count": 45,
     "metadata": {},
     "output_type": "execute_result"
    }
   ],
   "source": [
    "len(set(e8.var_names).intersection(R2))"
   ]
  },
  {
   "cell_type": "code",
   "execution_count": 197,
   "metadata": {},
   "outputs": [],
   "source": [
    "human_rerto = pd.read_excel('H:/002.singcell/01.liver/10.mutileSpecies/08.WGD/05.newGenes/Retrogenes.xlsx', sheet_name='human', index_col=None, header=0,engine='openpyxl')\n",
    "mouse_denovo = pd.read_csv('H:/002.singcell/01.liver/10.mutileSpecies/08.WGD/05.newGenes/mouse_denovo.txt',header=None,sep='\\t',index_col=None,names=['gene','qsm'])"
   ]
  },
  {
   "cell_type": "code",
   "execution_count": 201,
   "metadata": {},
   "outputs": [
    {
     "name": "stdout",
     "output_type": "stream",
     "text": [
      "1\n",
      "8\n"
     ]
    }
   ],
   "source": [
    "print(len(set(e8.var_names).intersection(human_rerto['genes'])))\n",
    "print(len(set(e8.var_names).intersection(mouse_denovo['gene'])))"
   ]
  },
  {
   "cell_type": "code",
   "execution_count": 46,
   "metadata": {},
   "outputs": [
    {
     "name": "stdout",
     "output_type": "stream",
     "text": [
      "WARNING: adata.X seems to be already log-transformed.\n"
     ]
    },
    {
     "name": "stderr",
     "output_type": "stream",
     "text": [
      "c:\\Users\\wubaosheng\\AppData\\Local\\Programs\\Python\\Python39\\lib\\site-packages\\anndata\\compat\\_overloaded_dict.py:106: ImplicitModificationWarning: Trying to modify attribute `._uns` of view, initializing view as actual.\n",
      "  self.data[key] = value\n"
     ]
    },
    {
     "name": "stdout",
     "output_type": "stream",
     "text": [
      "R1+R2: 602\n",
      "R1: 200\n",
      "R2: 402\n"
     ]
    },
    {
     "name": "stderr",
     "output_type": "stream",
     "text": [
      "c:\\Users\\wubaosheng\\AppData\\Local\\Programs\\Python\\Python39\\lib\\site-packages\\anndata\\_core\\anndata.py:1830: UserWarning: Variable names are not unique. To make them unique, call `.var_names_make_unique`.\n",
      "  utils.warn_names_duplicates(\"var\")\n"
     ]
    },
    {
     "ename": "NameError",
     "evalue": "name 'human_rerto' is not defined",
     "output_type": "error",
     "traceback": [
      "\u001b[1;31m---------------------------------------------------------------------------\u001b[0m",
      "\u001b[1;31mNameError\u001b[0m                                 Traceback (most recent call last)",
      "\u001b[1;32mh:\\002.singcell\\01.liver\\10.mutileSpecies\\05.SAMap\\020.mouse_liver_development.ipynb Cell 34\u001b[0m in \u001b[0;36m<cell line: 13>\u001b[1;34m()\u001b[0m\n\u001b[0;32m     <a href='vscode-notebook-cell:/h%3A/002.singcell/01.liver/10.mutileSpecies/05.SAMap/020.mouse_liver_development.ipynb#X45sZmlsZQ%3D%3D?line=10'>11</a>\u001b[0m \u001b[39mprint\u001b[39m(\u001b[39mf\u001b[39m\u001b[39m'\u001b[39m\u001b[39mR1: \u001b[39m\u001b[39m{\u001b[39;00m\u001b[39mlen\u001b[39m(\u001b[39mset\u001b[39m(e9\u001b[39m.\u001b[39mvar_names)\u001b[39m.\u001b[39mintersection(R1))\u001b[39m}\u001b[39;00m\u001b[39m'\u001b[39m)\n\u001b[0;32m     <a href='vscode-notebook-cell:/h%3A/002.singcell/01.liver/10.mutileSpecies/05.SAMap/020.mouse_liver_development.ipynb#X45sZmlsZQ%3D%3D?line=11'>12</a>\u001b[0m \u001b[39mprint\u001b[39m(\u001b[39mf\u001b[39m\u001b[39m'\u001b[39m\u001b[39mR2: \u001b[39m\u001b[39m{\u001b[39;00m\u001b[39mlen\u001b[39m(\u001b[39mset\u001b[39m(e9\u001b[39m.\u001b[39mvar_names)\u001b[39m.\u001b[39mintersection(R2))\u001b[39m}\u001b[39;00m\u001b[39m'\u001b[39m)\n\u001b[1;32m---> <a href='vscode-notebook-cell:/h%3A/002.singcell/01.liver/10.mutileSpecies/05.SAMap/020.mouse_liver_development.ipynb#X45sZmlsZQ%3D%3D?line=12'>13</a>\u001b[0m \u001b[39mprint\u001b[39m(\u001b[39mlen\u001b[39m(\u001b[39mset\u001b[39m(e9\u001b[39m.\u001b[39mvar_names)\u001b[39m.\u001b[39mintersection(human_rerto[\u001b[39m'\u001b[39m\u001b[39mgenes\u001b[39m\u001b[39m'\u001b[39m])))\n\u001b[0;32m     <a href='vscode-notebook-cell:/h%3A/002.singcell/01.liver/10.mutileSpecies/05.SAMap/020.mouse_liver_development.ipynb#X45sZmlsZQ%3D%3D?line=13'>14</a>\u001b[0m \u001b[39mprint\u001b[39m(\u001b[39mlen\u001b[39m(\u001b[39mset\u001b[39m(e9\u001b[39m.\u001b[39mvar_names)\u001b[39m.\u001b[39mintersection(mouse_denovo[\u001b[39m'\u001b[39m\u001b[39mgene\u001b[39m\u001b[39m'\u001b[39m])))\n",
      "\u001b[1;31mNameError\u001b[0m: name 'human_rerto' is not defined"
     ]
    }
   ],
   "source": [
    "adata.X=adata.layers['counts']\n",
    "sc.pp.normalize_total(adata,target_sum=1e4)\n",
    "sc.pp.log1p(adata)\n",
    "e9=adata[adata.obs['stage']=='E9.0']\n",
    "sc.pp.highly_variable_genes(e9, flavor='seurat', n_top_genes=2000, inplace=True)\n",
    "e9 = e9[:, e9.var['highly_variable']]\n",
    "with open('./e9_high_variable_genes.txt','w') as f:\n",
    "    f.write('\\n'.join(e9.var_names))\n",
    "f.close()\n",
    "print(f'R1+R2: {len(set(e9.var_names).intersection(R2+R1))}')\n",
    "print(f'R1: {len(set(e9.var_names).intersection(R1))}')\n",
    "print(f'R2: {len(set(e9.var_names).intersection(R2))}')\n",
    "print(len(set(e9.var_names).intersection(human_rerto['genes'])))\n",
    "print(len(set(e9.var_names).intersection(mouse_denovo['gene'])))"
   ]
  },
  {
   "cell_type": "code",
   "execution_count": 204,
   "metadata": {},
   "outputs": [
    {
     "name": "stdout",
     "output_type": "stream",
     "text": [
      "WARNING: adata.X seems to be already log-transformed.\n"
     ]
    },
    {
     "name": "stderr",
     "output_type": "stream",
     "text": [
      "c:\\Users\\wubaosheng\\AppData\\Local\\Programs\\Python\\Python39\\lib\\site-packages\\anndata\\compat\\_overloaded_dict.py:106: ImplicitModificationWarning: Trying to modify attribute `._uns` of view, initializing view as actual.\n",
      "  self.data[key] = value\n"
     ]
    },
    {
     "name": "stdout",
     "output_type": "stream",
     "text": [
      "R1+R2: 620\n",
      "R1: 211\n",
      "R2: 409\n",
      "3\n",
      "3\n"
     ]
    },
    {
     "name": "stderr",
     "output_type": "stream",
     "text": [
      "c:\\Users\\wubaosheng\\AppData\\Local\\Programs\\Python\\Python39\\lib\\site-packages\\anndata\\_core\\anndata.py:1830: UserWarning: Variable names are not unique. To make them unique, call `.var_names_make_unique`.\n",
      "  utils.warn_names_duplicates(\"var\")\n"
     ]
    }
   ],
   "source": [
    "adata.X=adata.layers['counts']\n",
    "sc.pp.normalize_total(adata,target_sum=1e4)\n",
    "sc.pp.log1p(adata)\n",
    "e95_p=adata[adata.obs['stage']=='E9.5Posterior']\n",
    "sc.pp.highly_variable_genes(e95_p, flavor='seurat', n_top_genes=2000, inplace=True)\n",
    "e95_p = e95_p[:, e95_p.var['highly_variable']]\n",
    "with open('./e95_p_high_variable_genes.txt','w') as f:\n",
    "    f.write('\\n'.join(e95_p.var_names))\n",
    "f.close()\n",
    "print(f'R1+R2: {len(set(e95_p.var_names).intersection(R2+R1))}')\n",
    "print(f'R1: {len(set(e95_p.var_names).intersection(R1))}')\n",
    "print(f'R2: {len(set(e95_p.var_names).intersection(R2))}')\n",
    "print(len(set(e95_p.var_names).intersection(human_rerto['genes'])))\n",
    "print(len(set(e95_p.var_names).intersection(mouse_denovo['gene'])))"
   ]
  },
  {
   "cell_type": "code",
   "execution_count": 205,
   "metadata": {},
   "outputs": [
    {
     "name": "stdout",
     "output_type": "stream",
     "text": [
      "WARNING: adata.X seems to be already log-transformed.\n"
     ]
    },
    {
     "name": "stderr",
     "output_type": "stream",
     "text": [
      "c:\\Users\\wubaosheng\\AppData\\Local\\Programs\\Python\\Python39\\lib\\site-packages\\anndata\\compat\\_overloaded_dict.py:106: ImplicitModificationWarning: Trying to modify attribute `._uns` of view, initializing view as actual.\n",
      "  self.data[key] = value\n"
     ]
    },
    {
     "name": "stdout",
     "output_type": "stream",
     "text": [
      "R1+R2: 553\n",
      "R1: 189\n",
      "R2: 364\n",
      "2\n",
      "4\n"
     ]
    },
    {
     "name": "stderr",
     "output_type": "stream",
     "text": [
      "c:\\Users\\wubaosheng\\AppData\\Local\\Programs\\Python\\Python39\\lib\\site-packages\\anndata\\_core\\anndata.py:1830: UserWarning: Variable names are not unique. To make them unique, call `.var_names_make_unique`.\n",
      "  utils.warn_names_duplicates(\"var\")\n"
     ]
    }
   ],
   "source": [
    "adata.X=adata.layers['counts']\n",
    "sc.pp.normalize_total(adata,target_sum=1e4)\n",
    "sc.pp.log1p(adata)\n",
    "e95_a=adata[adata.obs['stage']=='E9.5Anterior']\n",
    "sc.pp.highly_variable_genes(e95_a, flavor='seurat', n_top_genes=2000, inplace=True)\n",
    "e95_a = e95_a[:, e95_a.var['highly_variable']]\n",
    "with open('./e95_a_high_variable_genes.txt','w') as f:\n",
    "    f.write('\\n'.join(e95_a.var_names))\n",
    "f.close()\n",
    "print(f'R1+R2: {len(set(e95_a.var_names).intersection(R2+R1))}')\n",
    "print(f'R1: {len(set(e95_a.var_names).intersection(R1))}')\n",
    "print(f'R2: {len(set(e95_a.var_names).intersection(R2))}')\n",
    "print(len(set(e95_a.var_names).intersection(human_rerto['genes'])))\n",
    "print(len(set(e95_a.var_names).intersection(mouse_denovo['gene'])))"
   ]
  },
  {
   "cell_type": "code",
   "execution_count": 232,
   "metadata": {},
   "outputs": [
    {
     "data": {
      "text/plain": [
       "['FLT4']"
      ]
     },
     "execution_count": 232,
     "metadata": {},
     "output_type": "execute_result"
    }
   ],
   "source": [
    "[x for x in e8.var_names if 'FLT4' in x]"
   ]
  },
  {
   "cell_type": "code",
   "execution_count": 213,
   "metadata": {},
   "outputs": [],
   "source": [
    "adata.var_names_make_unique()"
   ]
  },
  {
   "cell_type": "code",
   "execution_count": 220,
   "metadata": {},
   "outputs": [],
   "source": [
    "adata=adata[~(adata.obs['stage']=='Filtered')]"
   ]
  },
  {
   "cell_type": "code",
   "execution_count": 224,
   "metadata": {},
   "outputs": [
    {
     "data": {
      "image/png": "[encoded data removed]",
      "text/plain": [
       "<Figure size 161.28x298.8 with 4 Axes>"
      ]
     },
     "metadata": {
      "needs_background": "light"
     },
     "output_type": "display_data"
    }
   ],
   "source": [
    "sc.pl.dotplot(adata,['KDR','FLT4'],groupby='cell_type')"
   ]
  },
  {
   "cell_type": "code",
   "execution_count": 226,
   "metadata": {},
   "outputs": [
    {
     "name": "stderr",
     "output_type": "stream",
     "text": [
      "c:\\Users\\wubaosheng\\AppData\\Local\\Programs\\Python\\Python39\\lib\\site-packages\\anndata\\compat\\_overloaded_dict.py:106: ImplicitModificationWarning: Trying to modify attribute `._uns` of view, initializing view as actual.\n",
      "  self.data[key] = value\n"
     ]
    },
    {
     "data": {
      "image/png": "[encoded data removed]",
      "text/plain": [
       "<Figure size 1076.26x288 with 2 Axes>"
      ]
     },
     "metadata": {
      "needs_background": "light"
     },
     "output_type": "display_data"
    }
   ],
   "source": [
    "sc.pl.violin(e8,['KDR','FLT4'],groupby='cell_type')"
   ]
  },
  {
   "cell_type": "code",
   "execution_count": 234,
   "metadata": {},
   "outputs": [
    {
     "name": "stderr",
     "output_type": "stream",
     "text": [
      "c:\\Users\\wubaosheng\\AppData\\Local\\Programs\\Python\\Python39\\lib\\site-packages\\anndata\\compat\\_overloaded_dict.py:106: ImplicitModificationWarning: Trying to modify attribute `._uns` of view, initializing view as actual.\n",
      "  self.data[key] = value\n"
     ]
    },
    {
     "data": {
      "image/png": "[encoded data removed]",
      "text/plain": [
       "<Figure size 538.128x288 with 1 Axes>"
      ]
     },
     "metadata": {
      "needs_background": "light"
     },
     "output_type": "display_data"
    }
   ],
   "source": [
    "sc.pl.violin(e9,['KDR'],groupby='cell_type')"
   ]
  },
  {
   "cell_type": "code",
   "execution_count": 236,
   "metadata": {},
   "outputs": [
    {
     "data": {
      "image/png": "[encoded data removed]",
      "text/plain": [
       "<Figure size 538.128x288 with 1 Axes>"
      ]
     },
     "metadata": {
      "needs_background": "light"
     },
     "output_type": "display_data"
    }
   ],
   "source": [
    "sc.pl.violin(e95_p,['KDR'],groupby='cell_type')"
   ]
  },
  {
   "cell_type": "code",
   "execution_count": 237,
   "metadata": {},
   "outputs": [
    {
     "name": "stderr",
     "output_type": "stream",
     "text": [
      "c:\\Users\\wubaosheng\\AppData\\Local\\Programs\\Python\\Python39\\lib\\site-packages\\anndata\\compat\\_overloaded_dict.py:106: ImplicitModificationWarning: Trying to modify attribute `._uns` of view, initializing view as actual.\n",
      "  self.data[key] = value\n"
     ]
    },
    {
     "data": {
      "image/png": "[encoded data removed]",
      "text/plain": [
       "<Figure size 538.128x288 with 1 Axes>"
      ]
     },
     "metadata": {
      "needs_background": "light"
     },
     "output_type": "display_data"
    }
   ],
   "source": [
    "sc.pl.violin(e95_a,['KDR'],groupby='cell_type')"
   ]
  },
  {
   "cell_type": "code",
   "execution_count": 239,
   "metadata": {},
   "outputs": [],
   "source": [
    "endo_marker = ['SEMA6A','CALCRL','NRP2','TUBA1A','TGFBR3','APLNR','OIT3','TMEM204','PLPP3','VWF','SGK1','CRIM1','FLT4','ADGRL4','MYO1C','RARB','PLXND1','SHE','PLK2','FGD5','FLI1','FLT1','ASAP1','TEK','RGS3','TANC2','SPTBN1']"
   ]
  },
  {
   "cell_type": "code",
   "execution_count": 240,
   "metadata": {},
   "outputs": [
    {
     "data": {
      "text/plain": [
       "27"
      ]
     },
     "execution_count": 240,
     "metadata": {},
     "output_type": "execute_result"
    }
   ],
   "source": [
    "len(endo_marker)"
   ]
  },
  {
   "cell_type": "code",
   "execution_count": 244,
   "metadata": {},
   "outputs": [
    {
     "data": {
      "text/plain": [
       "{'FGD5', 'SHE', 'TEK'}"
      ]
     },
     "execution_count": 244,
     "metadata": {},
     "output_type": "execute_result"
    }
   ],
   "source": [
    "set(R2).intersection(set(endo_marker))"
   ]
  },
  {
   "cell_type": "code",
   "execution_count": 2,
   "metadata": {},
   "outputs": [],
   "source": [
    "mouse_atac=pd.read_csv('H:/002.singcell/01.liver/10.mutileSpecies/05.SAMap/014.mouse_liver_development/scACAT.txt',index_col=None,sep='\\t',header=None,names=['chr','UMI'])"
   ]
  },
  {
   "cell_type": "code",
   "execution_count": 3,
   "metadata": {},
   "outputs": [],
   "source": [
    "mouse_atac['id']=mouse_atac['chr'].str.split(':',expand=True)[0]"
   ]
  },
  {
   "cell_type": "code",
   "execution_count": 4,
   "metadata": {},
   "outputs": [],
   "source": [
    "mouse_atac['start']=mouse_atac['chr'].str.split(':',expand=True)[1].str.split('-',expand=True)[0]"
   ]
  },
  {
   "cell_type": "code",
   "execution_count": 5,
   "metadata": {},
   "outputs": [],
   "source": [
    "mouse_atac['end']=mouse_atac['chr'].str.split(':',expand=True)[1].str.split('-',expand=True)[1]"
   ]
  },
  {
   "cell_type": "code",
   "execution_count": 6,
   "metadata": {},
   "outputs": [],
   "source": [
    "mouse_atac['length'] = mouse_atac['end'].astype(int) - mouse_atac['start'].astype(int)"
   ]
  },
  {
   "cell_type": "code",
   "execution_count": 7,
   "metadata": {},
   "outputs": [],
   "source": [
    "mouse_atac['TPM']=mouse_atac['UMI'].astype(float)/mouse_atac['length'].sum()*1000000"
   ]
  },
  {
   "cell_type": "code",
   "execution_count": 8,
   "metadata": {},
   "outputs": [],
   "source": [
    "mouse_atac=mouse_atac[mouse_atac['TPM']<50]"
   ]
  },
  {
   "cell_type": "code",
   "execution_count": 9,
   "metadata": {},
   "outputs": [
    {
     "data": {
      "text/html": [
       "<div>\n",
       "<style scoped>\n",
       "    .dataframe tbody tr th:only-of-type {\n",
       "        vertical-align: middle;\n",
       "    }\n",
       "\n",
       "    .dataframe tbody tr th {\n",
       "        vertical-align: top;\n",
       "    }\n",
       "\n",
       "    .dataframe thead th {\n",
       "        text-align: right;\n",
       "    }\n",
       "</style>\n",
       "<table border=\"1\" class=\"dataframe\">\n",
       "  <thead>\n",
       "    <tr style=\"text-align: right;\">\n",
       "      <th></th>\n",
       "      <th>chr</th>\n",
       "      <th>UMI</th>\n",
       "      <th>id</th>\n",
       "      <th>start</th>\n",
       "      <th>end</th>\n",
       "      <th>length</th>\n",
       "      <th>TPM</th>\n",
       "    </tr>\n",
       "  </thead>\n",
       "  <tbody>\n",
       "    <tr>\n",
       "      <th>0</th>\n",
       "      <td>chr10:100001532-100001667</td>\n",
       "      <td>47</td>\n",
       "      <td>chr10</td>\n",
       "      <td>100001532</td>\n",
       "      <td>100001667</td>\n",
       "      <td>135</td>\n",
       "      <td>0.332376</td>\n",
       "    </tr>\n",
       "    <tr>\n",
       "      <th>1</th>\n",
       "      <td>chr10:100010109-100010715</td>\n",
       "      <td>30</td>\n",
       "      <td>chr10</td>\n",
       "      <td>100010109</td>\n",
       "      <td>100010715</td>\n",
       "      <td>606</td>\n",
       "      <td>0.212155</td>\n",
       "    </tr>\n",
       "    <tr>\n",
       "      <th>2</th>\n",
       "      <td>chr10:100013826-100020189</td>\n",
       "      <td>1642</td>\n",
       "      <td>chr10</td>\n",
       "      <td>100013826</td>\n",
       "      <td>100020189</td>\n",
       "      <td>6363</td>\n",
       "      <td>11.611938</td>\n",
       "    </tr>\n",
       "    <tr>\n",
       "      <th>3</th>\n",
       "      <td>chr10:100022150-100022719</td>\n",
       "      <td>15</td>\n",
       "      <td>chr10</td>\n",
       "      <td>100022150</td>\n",
       "      <td>100022719</td>\n",
       "      <td>569</td>\n",
       "      <td>0.106077</td>\n",
       "    </tr>\n",
       "    <tr>\n",
       "      <th>4</th>\n",
       "      <td>chr10:100025384-100026163</td>\n",
       "      <td>185</td>\n",
       "      <td>chr10</td>\n",
       "      <td>100025384</td>\n",
       "      <td>100026163</td>\n",
       "      <td>779</td>\n",
       "      <td>1.308288</td>\n",
       "    </tr>\n",
       "    <tr>\n",
       "      <th>...</th>\n",
       "      <td>...</td>\n",
       "      <td>...</td>\n",
       "      <td>...</td>\n",
       "      <td>...</td>\n",
       "      <td>...</td>\n",
       "      <td>...</td>\n",
       "      <td>...</td>\n",
       "    </tr>\n",
       "    <tr>\n",
       "      <th>162723</th>\n",
       "      <td>chrY:90803545-90803811</td>\n",
       "      <td>38</td>\n",
       "      <td>chrY</td>\n",
       "      <td>90803545</td>\n",
       "      <td>90803811</td>\n",
       "      <td>266</td>\n",
       "      <td>0.268729</td>\n",
       "    </tr>\n",
       "    <tr>\n",
       "      <th>162724</th>\n",
       "      <td>chrY:90804478-90805450</td>\n",
       "      <td>391</td>\n",
       "      <td>chrY</td>\n",
       "      <td>90804478</td>\n",
       "      <td>90805450</td>\n",
       "      <td>972</td>\n",
       "      <td>2.765084</td>\n",
       "    </tr>\n",
       "    <tr>\n",
       "      <th>162725</th>\n",
       "      <td>chrY:90807112-90809625</td>\n",
       "      <td>498</td>\n",
       "      <td>chrY</td>\n",
       "      <td>90807112</td>\n",
       "      <td>90809625</td>\n",
       "      <td>2513</td>\n",
       "      <td>3.521769</td>\n",
       "    </tr>\n",
       "    <tr>\n",
       "      <th>162726</th>\n",
       "      <td>chrY:90810389-90813288</td>\n",
       "      <td>424</td>\n",
       "      <td>chrY</td>\n",
       "      <td>90810389</td>\n",
       "      <td>90813288</td>\n",
       "      <td>2899</td>\n",
       "      <td>2.998454</td>\n",
       "    </tr>\n",
       "    <tr>\n",
       "      <th>162727</th>\n",
       "      <td>chrY:90828557-90829216</td>\n",
       "      <td>46</td>\n",
       "      <td>chrY</td>\n",
       "      <td>90828557</td>\n",
       "      <td>90829216</td>\n",
       "      <td>659</td>\n",
       "      <td>0.325304</td>\n",
       "    </tr>\n",
       "  </tbody>\n",
       "</table>\n",
       "<p>162711 rows × 7 columns</p>\n",
       "</div>"
      ],
      "text/plain": [
       "                              chr   UMI     id      start        end  length  \\\n",
       "0       chr10:100001532-100001667    47  chr10  100001532  100001667     135   \n",
       "1       chr10:100010109-100010715    30  chr10  100010109  100010715     606   \n",
       "2       chr10:100013826-100020189  1642  chr10  100013826  100020189    6363   \n",
       "3       chr10:100022150-100022719    15  chr10  100022150  100022719     569   \n",
       "4       chr10:100025384-100026163   185  chr10  100025384  100026163     779   \n",
       "...                           ...   ...    ...        ...        ...     ...   \n",
       "162723     chrY:90803545-90803811    38   chrY   90803545   90803811     266   \n",
       "162724     chrY:90804478-90805450   391   chrY   90804478   90805450     972   \n",
       "162725     chrY:90807112-90809625   498   chrY   90807112   90809625    2513   \n",
       "162726     chrY:90810389-90813288   424   chrY   90810389   90813288    2899   \n",
       "162727     chrY:90828557-90829216    46   chrY   90828557   90829216     659   \n",
       "\n",
       "              TPM  \n",
       "0        0.332376  \n",
       "1        0.212155  \n",
       "2       11.611938  \n",
       "3        0.106077  \n",
       "4        1.308288  \n",
       "...           ...  \n",
       "162723   0.268729  \n",
       "162724   2.765084  \n",
       "162725   3.521769  \n",
       "162726   2.998454  \n",
       "162727   0.325304  \n",
       "\n",
       "[162711 rows x 7 columns]"
      ]
     },
     "execution_count": 9,
     "metadata": {},
     "output_type": "execute_result"
    }
   ],
   "source": [
    "mouse_atac"
   ]
  },
  {
   "cell_type": "code",
   "execution_count": 10,
   "metadata": {},
   "outputs": [],
   "source": [
    "blast=pd.read_csv('H:/002.singcell/01.liver/10.mutileSpecies/05.SAMap/014.mouse_liver_development/02.blastnParse.py.out',index_col=None,sep='\\t',header=None,names=['human','mouse'])"
   ]
  },
  {
   "cell_type": "code",
   "execution_count": 61,
   "metadata": {},
   "outputs": [],
   "source": [
    "blast_dir = blast.set_index('human')['mouse'].to_dict()"
   ]
  },
  {
   "cell_type": "code",
   "execution_count": null,
   "metadata": {},
   "outputs": [],
   "source": [
    "blast_dir"
   ]
  },
  {
   "cell_type": "code",
   "execution_count": 11,
   "metadata": {},
   "outputs": [],
   "source": [
    "mouse_atac_high = mouse_atac[mouse_atac['chr'].isin(blast['mouse'])]"
   ]
  },
  {
   "cell_type": "code",
   "execution_count": 12,
   "metadata": {},
   "outputs": [
    {
     "data": {
      "text/html": [
       "<div>\n",
       "<style scoped>\n",
       "    .dataframe tbody tr th:only-of-type {\n",
       "        vertical-align: middle;\n",
       "    }\n",
       "\n",
       "    .dataframe tbody tr th {\n",
       "        vertical-align: top;\n",
       "    }\n",
       "\n",
       "    .dataframe thead th {\n",
       "        text-align: right;\n",
       "    }\n",
       "</style>\n",
       "<table border=\"1\" class=\"dataframe\">\n",
       "  <thead>\n",
       "    <tr style=\"text-align: right;\">\n",
       "      <th></th>\n",
       "      <th>chr</th>\n",
       "      <th>UMI</th>\n",
       "      <th>id</th>\n",
       "      <th>start</th>\n",
       "      <th>end</th>\n",
       "      <th>length</th>\n",
       "      <th>TPM</th>\n",
       "    </tr>\n",
       "  </thead>\n",
       "  <tbody>\n",
       "    <tr>\n",
       "      <th>47</th>\n",
       "      <td>chr10:102510952-102512958</td>\n",
       "      <td>448</td>\n",
       "      <td>chr10</td>\n",
       "      <td>102510952</td>\n",
       "      <td>102512958</td>\n",
       "      <td>2006</td>\n",
       "      <td>3.168178</td>\n",
       "    </tr>\n",
       "    <tr>\n",
       "      <th>85</th>\n",
       "      <td>chr10:10392716-10392881</td>\n",
       "      <td>6</td>\n",
       "      <td>chr10</td>\n",
       "      <td>10392716</td>\n",
       "      <td>10392881</td>\n",
       "      <td>165</td>\n",
       "      <td>0.042431</td>\n",
       "    </tr>\n",
       "    <tr>\n",
       "      <th>409</th>\n",
       "      <td>chr10:111502216-111512465</td>\n",
       "      <td>2850</td>\n",
       "      <td>chr10</td>\n",
       "      <td>111502216</td>\n",
       "      <td>111512465</td>\n",
       "      <td>10249</td>\n",
       "      <td>20.154704</td>\n",
       "    </tr>\n",
       "    <tr>\n",
       "      <th>425</th>\n",
       "      <td>chr10:111574135-111577149</td>\n",
       "      <td>868</td>\n",
       "      <td>chr10</td>\n",
       "      <td>111574135</td>\n",
       "      <td>111577149</td>\n",
       "      <td>3014</td>\n",
       "      <td>6.138345</td>\n",
       "    </tr>\n",
       "    <tr>\n",
       "      <th>711</th>\n",
       "      <td>chr10:116947851-116951390</td>\n",
       "      <td>1027</td>\n",
       "      <td>chr10</td>\n",
       "      <td>116947851</td>\n",
       "      <td>116951390</td>\n",
       "      <td>3539</td>\n",
       "      <td>7.262765</td>\n",
       "    </tr>\n",
       "    <tr>\n",
       "      <th>...</th>\n",
       "      <td>...</td>\n",
       "      <td>...</td>\n",
       "      <td>...</td>\n",
       "      <td>...</td>\n",
       "      <td>...</td>\n",
       "      <td>...</td>\n",
       "      <td>...</td>\n",
       "    </tr>\n",
       "    <tr>\n",
       "      <th>162369</th>\n",
       "      <td>chrX:7877432-7880492</td>\n",
       "      <td>996</td>\n",
       "      <td>chrX</td>\n",
       "      <td>7877432</td>\n",
       "      <td>7880492</td>\n",
       "      <td>3060</td>\n",
       "      <td>7.043539</td>\n",
       "    </tr>\n",
       "    <tr>\n",
       "      <th>162397</th>\n",
       "      <td>chrX:81070033-81073465</td>\n",
       "      <td>535</td>\n",
       "      <td>chrX</td>\n",
       "      <td>81070033</td>\n",
       "      <td>81073465</td>\n",
       "      <td>3432</td>\n",
       "      <td>3.783427</td>\n",
       "    </tr>\n",
       "    <tr>\n",
       "      <th>162631</th>\n",
       "      <td>chrX:99127111-99127794</td>\n",
       "      <td>19</td>\n",
       "      <td>chrX</td>\n",
       "      <td>99127111</td>\n",
       "      <td>99127794</td>\n",
       "      <td>683</td>\n",
       "      <td>0.134365</td>\n",
       "    </tr>\n",
       "    <tr>\n",
       "      <th>162633</th>\n",
       "      <td>chrX:99134748-99139765</td>\n",
       "      <td>1127</td>\n",
       "      <td>chrX</td>\n",
       "      <td>99134748</td>\n",
       "      <td>99139765</td>\n",
       "      <td>5017</td>\n",
       "      <td>7.969948</td>\n",
       "    </tr>\n",
       "    <tr>\n",
       "      <th>162636</th>\n",
       "      <td>chrX:99148076-99148694</td>\n",
       "      <td>42</td>\n",
       "      <td>chrX</td>\n",
       "      <td>99148076</td>\n",
       "      <td>99148694</td>\n",
       "      <td>618</td>\n",
       "      <td>0.297017</td>\n",
       "    </tr>\n",
       "  </tbody>\n",
       "</table>\n",
       "<p>956 rows × 7 columns</p>\n",
       "</div>"
      ],
      "text/plain": [
       "                              chr   UMI     id      start        end  length  \\\n",
       "47      chr10:102510952-102512958   448  chr10  102510952  102512958    2006   \n",
       "85        chr10:10392716-10392881     6  chr10   10392716   10392881     165   \n",
       "409     chr10:111502216-111512465  2850  chr10  111502216  111512465   10249   \n",
       "425     chr10:111574135-111577149   868  chr10  111574135  111577149    3014   \n",
       "711     chr10:116947851-116951390  1027  chr10  116947851  116951390    3539   \n",
       "...                           ...   ...    ...        ...        ...     ...   \n",
       "162369       chrX:7877432-7880492   996   chrX    7877432    7880492    3060   \n",
       "162397     chrX:81070033-81073465   535   chrX   81070033   81073465    3432   \n",
       "162631     chrX:99127111-99127794    19   chrX   99127111   99127794     683   \n",
       "162633     chrX:99134748-99139765  1127   chrX   99134748   99139765    5017   \n",
       "162636     chrX:99148076-99148694    42   chrX   99148076   99148694     618   \n",
       "\n",
       "              TPM  \n",
       "47       3.168178  \n",
       "85       0.042431  \n",
       "409     20.154704  \n",
       "425      6.138345  \n",
       "711      7.262765  \n",
       "...           ...  \n",
       "162369   7.043539  \n",
       "162397   3.783427  \n",
       "162631   0.134365  \n",
       "162633   7.969948  \n",
       "162636   0.297017  \n",
       "\n",
       "[956 rows x 7 columns]"
      ]
     },
     "execution_count": 12,
     "metadata": {},
     "output_type": "execute_result"
    }
   ],
   "source": [
    "mouse_atac_high"
   ]
  },
  {
   "cell_type": "code",
   "execution_count": 13,
   "metadata": {},
   "outputs": [],
   "source": [
    "mouse_atac_low = mouse_atac[~mouse_atac['chr'].isin(blast['mouse'])]"
   ]
  },
  {
   "cell_type": "code",
   "execution_count": 14,
   "metadata": {},
   "outputs": [
    {
     "data": {
      "text/plain": [
       "1.0994553605940556"
      ]
     },
     "execution_count": 14,
     "metadata": {},
     "output_type": "execute_result"
    }
   ],
   "source": [
    "mouse_atac_low['TPM'].mean()"
   ]
  },
  {
   "cell_type": "code",
   "execution_count": 15,
   "metadata": {},
   "outputs": [
    {
     "data": {
      "text/plain": [
       "6.532828634869218"
      ]
     },
     "execution_count": 15,
     "metadata": {},
     "output_type": "execute_result"
    }
   ],
   "source": [
    "mouse_atac_high['TPM'].mean()"
   ]
  },
  {
   "cell_type": "code",
   "execution_count": 16,
   "metadata": {},
   "outputs": [],
   "source": [
    "mouse_atac['high_low'] = ['high' if x in mouse_atac_high.index else 'low' for x in mouse_atac.index]"
   ]
  },
  {
   "cell_type": "code",
   "execution_count": 17,
   "metadata": {},
   "outputs": [
    {
     "data": {
      "text/html": [
       "<div>\n",
       "<style scoped>\n",
       "    .dataframe tbody tr th:only-of-type {\n",
       "        vertical-align: middle;\n",
       "    }\n",
       "\n",
       "    .dataframe tbody tr th {\n",
       "        vertical-align: top;\n",
       "    }\n",
       "\n",
       "    .dataframe thead th {\n",
       "        text-align: right;\n",
       "    }\n",
       "</style>\n",
       "<table border=\"1\" class=\"dataframe\">\n",
       "  <thead>\n",
       "    <tr style=\"text-align: right;\">\n",
       "      <th></th>\n",
       "      <th>chr</th>\n",
       "      <th>UMI</th>\n",
       "      <th>id</th>\n",
       "      <th>start</th>\n",
       "      <th>end</th>\n",
       "      <th>length</th>\n",
       "      <th>TPM</th>\n",
       "      <th>high_low</th>\n",
       "    </tr>\n",
       "  </thead>\n",
       "  <tbody>\n",
       "    <tr>\n",
       "      <th>0</th>\n",
       "      <td>chr10:100001532-100001667</td>\n",
       "      <td>47</td>\n",
       "      <td>chr10</td>\n",
       "      <td>100001532</td>\n",
       "      <td>100001667</td>\n",
       "      <td>135</td>\n",
       "      <td>0.332376</td>\n",
       "      <td>low</td>\n",
       "    </tr>\n",
       "    <tr>\n",
       "      <th>1</th>\n",
       "      <td>chr10:100010109-100010715</td>\n",
       "      <td>30</td>\n",
       "      <td>chr10</td>\n",
       "      <td>100010109</td>\n",
       "      <td>100010715</td>\n",
       "      <td>606</td>\n",
       "      <td>0.212155</td>\n",
       "      <td>low</td>\n",
       "    </tr>\n",
       "    <tr>\n",
       "      <th>2</th>\n",
       "      <td>chr10:100013826-100020189</td>\n",
       "      <td>1642</td>\n",
       "      <td>chr10</td>\n",
       "      <td>100013826</td>\n",
       "      <td>100020189</td>\n",
       "      <td>6363</td>\n",
       "      <td>11.611938</td>\n",
       "      <td>low</td>\n",
       "    </tr>\n",
       "    <tr>\n",
       "      <th>3</th>\n",
       "      <td>chr10:100022150-100022719</td>\n",
       "      <td>15</td>\n",
       "      <td>chr10</td>\n",
       "      <td>100022150</td>\n",
       "      <td>100022719</td>\n",
       "      <td>569</td>\n",
       "      <td>0.106077</td>\n",
       "      <td>low</td>\n",
       "    </tr>\n",
       "    <tr>\n",
       "      <th>4</th>\n",
       "      <td>chr10:100025384-100026163</td>\n",
       "      <td>185</td>\n",
       "      <td>chr10</td>\n",
       "      <td>100025384</td>\n",
       "      <td>100026163</td>\n",
       "      <td>779</td>\n",
       "      <td>1.308288</td>\n",
       "      <td>low</td>\n",
       "    </tr>\n",
       "    <tr>\n",
       "      <th>...</th>\n",
       "      <td>...</td>\n",
       "      <td>...</td>\n",
       "      <td>...</td>\n",
       "      <td>...</td>\n",
       "      <td>...</td>\n",
       "      <td>...</td>\n",
       "      <td>...</td>\n",
       "      <td>...</td>\n",
       "    </tr>\n",
       "    <tr>\n",
       "      <th>162723</th>\n",
       "      <td>chrY:90803545-90803811</td>\n",
       "      <td>38</td>\n",
       "      <td>chrY</td>\n",
       "      <td>90803545</td>\n",
       "      <td>90803811</td>\n",
       "      <td>266</td>\n",
       "      <td>0.268729</td>\n",
       "      <td>low</td>\n",
       "    </tr>\n",
       "    <tr>\n",
       "      <th>162724</th>\n",
       "      <td>chrY:90804478-90805450</td>\n",
       "      <td>391</td>\n",
       "      <td>chrY</td>\n",
       "      <td>90804478</td>\n",
       "      <td>90805450</td>\n",
       "      <td>972</td>\n",
       "      <td>2.765084</td>\n",
       "      <td>low</td>\n",
       "    </tr>\n",
       "    <tr>\n",
       "      <th>162725</th>\n",
       "      <td>chrY:90807112-90809625</td>\n",
       "      <td>498</td>\n",
       "      <td>chrY</td>\n",
       "      <td>90807112</td>\n",
       "      <td>90809625</td>\n",
       "      <td>2513</td>\n",
       "      <td>3.521769</td>\n",
       "      <td>low</td>\n",
       "    </tr>\n",
       "    <tr>\n",
       "      <th>162726</th>\n",
       "      <td>chrY:90810389-90813288</td>\n",
       "      <td>424</td>\n",
       "      <td>chrY</td>\n",
       "      <td>90810389</td>\n",
       "      <td>90813288</td>\n",
       "      <td>2899</td>\n",
       "      <td>2.998454</td>\n",
       "      <td>low</td>\n",
       "    </tr>\n",
       "    <tr>\n",
       "      <th>162727</th>\n",
       "      <td>chrY:90828557-90829216</td>\n",
       "      <td>46</td>\n",
       "      <td>chrY</td>\n",
       "      <td>90828557</td>\n",
       "      <td>90829216</td>\n",
       "      <td>659</td>\n",
       "      <td>0.325304</td>\n",
       "      <td>low</td>\n",
       "    </tr>\n",
       "  </tbody>\n",
       "</table>\n",
       "<p>161755 rows × 8 columns</p>\n",
       "</div>"
      ],
      "text/plain": [
       "                              chr   UMI     id      start        end  length  \\\n",
       "0       chr10:100001532-100001667    47  chr10  100001532  100001667     135   \n",
       "1       chr10:100010109-100010715    30  chr10  100010109  100010715     606   \n",
       "2       chr10:100013826-100020189  1642  chr10  100013826  100020189    6363   \n",
       "3       chr10:100022150-100022719    15  chr10  100022150  100022719     569   \n",
       "4       chr10:100025384-100026163   185  chr10  100025384  100026163     779   \n",
       "...                           ...   ...    ...        ...        ...     ...   \n",
       "162723     chrY:90803545-90803811    38   chrY   90803545   90803811     266   \n",
       "162724     chrY:90804478-90805450   391   chrY   90804478   90805450     972   \n",
       "162725     chrY:90807112-90809625   498   chrY   90807112   90809625    2513   \n",
       "162726     chrY:90810389-90813288   424   chrY   90810389   90813288    2899   \n",
       "162727     chrY:90828557-90829216    46   chrY   90828557   90829216     659   \n",
       "\n",
       "              TPM high_low  \n",
       "0        0.332376      low  \n",
       "1        0.212155      low  \n",
       "2       11.611938      low  \n",
       "3        0.106077      low  \n",
       "4        1.308288      low  \n",
       "...           ...      ...  \n",
       "162723   0.268729      low  \n",
       "162724   2.765084      low  \n",
       "162725   3.521769      low  \n",
       "162726   2.998454      low  \n",
       "162727   0.325304      low  \n",
       "\n",
       "[161755 rows x 8 columns]"
      ]
     },
     "execution_count": 17,
     "metadata": {},
     "output_type": "execute_result"
    }
   ],
   "source": [
    "mouse_atac[mouse_atac['high_low']=='low']"
   ]
  },
  {
   "cell_type": "code",
   "execution_count": 377,
   "metadata": {},
   "outputs": [
    {
     "data": {
      "text/plain": [
       "<AxesSubplot:xlabel='high_low', ylabel='TPM'>"
      ]
     },
     "execution_count": 377,
     "metadata": {},
     "output_type": "execute_result"
    },
    {
     "data": {
      "image/png": "[encoded data removed]",
      "text/plain": [
       "<Figure size 432x288 with 1 Axes>"
      ]
     },
     "metadata": {
      "needs_background": "light"
     },
     "output_type": "display_data"
    }
   ],
   "source": [
    "import seaborn as sns\n",
    "import matplotlib.pyplot as plt\n",
    "# ax=sns.boxplot(x=\"high_low\", y=\"TPM\", data=mouse_atac,hue='high_low',dodge=False)\n",
    "# sns.stripplot(x='high_low', y='TPM', data=mouse_atac, color='black', size=1, ax=ax)\n",
    "sns.boxplot(\n",
    "    data=mouse_atac, x=\"high_low\", y=\"TPM\",\n",
    "    # notch=True, showcaps=False,\n",
    "    flierprops={\"marker\": \".\", \"markersize\": 5},\n",
    "    boxprops={\"facecolor\": (.4, .6, .8, .5)},\n",
    "    medianprops={\"color\": \"coral\"},\n",
    ")"
   ]
  },
  {
   "cell_type": "code",
   "execution_count": 385,
   "metadata": {},
   "outputs": [
    {
     "data": {
      "image/png": "[encoded data removed]",
      "text/plain": [
       "<Figure size 432x288 with 1 Axes>"
      ]
     },
     "metadata": {
      "needs_background": "light"
     },
     "output_type": "display_data"
    }
   ],
   "source": [
    "sns.violinplot(data=mouse_atac, x=\"high_low\", y=\"TPM\",scale=\"width\", inner=\"box\", cut=0, linewidth=0.5, palette=\"Set2\")\n",
    "plt.savefig(\"H:/002.singcell/01.liver/10.mutileSpecies/05.SAMap/014.mouse_liver_development/mouse_development_atac.pdf\", bbox_inches='tight')"
   ]
  },
  {
   "cell_type": "code",
   "execution_count": 389,
   "metadata": {},
   "outputs": [
    {
     "data": {
      "text/plain": [
       "Ttest_indResult(statistic=66.65973389123154, pvalue=0.0)"
      ]
     },
     "execution_count": 389,
     "metadata": {},
     "output_type": "execute_result"
    }
   ],
   "source": [
    "#### t test\n",
    "from scipy.stats import ttest_ind\n",
    "ttest_ind(mouse_atac[mouse_atac['high_low']=='high']['TPM'],mouse_atac[mouse_atac['high_low']=='low']['TPM'])"
   ]
  },
  {
   "cell_type": "code",
   "execution_count": 18,
   "metadata": {},
   "outputs": [
    {
     "data": {
      "text/html": [
       "<div>\n",
       "<style scoped>\n",
       "    .dataframe tbody tr th:only-of-type {\n",
       "        vertical-align: middle;\n",
       "    }\n",
       "\n",
       "    .dataframe tbody tr th {\n",
       "        vertical-align: top;\n",
       "    }\n",
       "\n",
       "    .dataframe thead th {\n",
       "        text-align: right;\n",
       "    }\n",
       "</style>\n",
       "<table border=\"1\" class=\"dataframe\">\n",
       "  <thead>\n",
       "    <tr style=\"text-align: right;\">\n",
       "      <th></th>\n",
       "      <th>chr</th>\n",
       "      <th>UMI</th>\n",
       "      <th>id</th>\n",
       "      <th>start</th>\n",
       "      <th>end</th>\n",
       "      <th>length</th>\n",
       "      <th>TPM</th>\n",
       "    </tr>\n",
       "  </thead>\n",
       "  <tbody>\n",
       "    <tr>\n",
       "      <th>47</th>\n",
       "      <td>chr10:102510952-102512958</td>\n",
       "      <td>448</td>\n",
       "      <td>chr10</td>\n",
       "      <td>102510952</td>\n",
       "      <td>102512958</td>\n",
       "      <td>2006</td>\n",
       "      <td>3.168178</td>\n",
       "    </tr>\n",
       "    <tr>\n",
       "      <th>85</th>\n",
       "      <td>chr10:10392716-10392881</td>\n",
       "      <td>6</td>\n",
       "      <td>chr10</td>\n",
       "      <td>10392716</td>\n",
       "      <td>10392881</td>\n",
       "      <td>165</td>\n",
       "      <td>0.042431</td>\n",
       "    </tr>\n",
       "    <tr>\n",
       "      <th>409</th>\n",
       "      <td>chr10:111502216-111512465</td>\n",
       "      <td>2850</td>\n",
       "      <td>chr10</td>\n",
       "      <td>111502216</td>\n",
       "      <td>111512465</td>\n",
       "      <td>10249</td>\n",
       "      <td>20.154704</td>\n",
       "    </tr>\n",
       "    <tr>\n",
       "      <th>425</th>\n",
       "      <td>chr10:111574135-111577149</td>\n",
       "      <td>868</td>\n",
       "      <td>chr10</td>\n",
       "      <td>111574135</td>\n",
       "      <td>111577149</td>\n",
       "      <td>3014</td>\n",
       "      <td>6.138345</td>\n",
       "    </tr>\n",
       "    <tr>\n",
       "      <th>711</th>\n",
       "      <td>chr10:116947851-116951390</td>\n",
       "      <td>1027</td>\n",
       "      <td>chr10</td>\n",
       "      <td>116947851</td>\n",
       "      <td>116951390</td>\n",
       "      <td>3539</td>\n",
       "      <td>7.262765</td>\n",
       "    </tr>\n",
       "    <tr>\n",
       "      <th>...</th>\n",
       "      <td>...</td>\n",
       "      <td>...</td>\n",
       "      <td>...</td>\n",
       "      <td>...</td>\n",
       "      <td>...</td>\n",
       "      <td>...</td>\n",
       "      <td>...</td>\n",
       "    </tr>\n",
       "    <tr>\n",
       "      <th>162369</th>\n",
       "      <td>chrX:7877432-7880492</td>\n",
       "      <td>996</td>\n",
       "      <td>chrX</td>\n",
       "      <td>7877432</td>\n",
       "      <td>7880492</td>\n",
       "      <td>3060</td>\n",
       "      <td>7.043539</td>\n",
       "    </tr>\n",
       "    <tr>\n",
       "      <th>162397</th>\n",
       "      <td>chrX:81070033-81073465</td>\n",
       "      <td>535</td>\n",
       "      <td>chrX</td>\n",
       "      <td>81070033</td>\n",
       "      <td>81073465</td>\n",
       "      <td>3432</td>\n",
       "      <td>3.783427</td>\n",
       "    </tr>\n",
       "    <tr>\n",
       "      <th>162631</th>\n",
       "      <td>chrX:99127111-99127794</td>\n",
       "      <td>19</td>\n",
       "      <td>chrX</td>\n",
       "      <td>99127111</td>\n",
       "      <td>99127794</td>\n",
       "      <td>683</td>\n",
       "      <td>0.134365</td>\n",
       "    </tr>\n",
       "    <tr>\n",
       "      <th>162633</th>\n",
       "      <td>chrX:99134748-99139765</td>\n",
       "      <td>1127</td>\n",
       "      <td>chrX</td>\n",
       "      <td>99134748</td>\n",
       "      <td>99139765</td>\n",
       "      <td>5017</td>\n",
       "      <td>7.969948</td>\n",
       "    </tr>\n",
       "    <tr>\n",
       "      <th>162636</th>\n",
       "      <td>chrX:99148076-99148694</td>\n",
       "      <td>42</td>\n",
       "      <td>chrX</td>\n",
       "      <td>99148076</td>\n",
       "      <td>99148694</td>\n",
       "      <td>618</td>\n",
       "      <td>0.297017</td>\n",
       "    </tr>\n",
       "  </tbody>\n",
       "</table>\n",
       "<p>956 rows × 7 columns</p>\n",
       "</div>"
      ],
      "text/plain": [
       "                              chr   UMI     id      start        end  length  \\\n",
       "47      chr10:102510952-102512958   448  chr10  102510952  102512958    2006   \n",
       "85        chr10:10392716-10392881     6  chr10   10392716   10392881     165   \n",
       "409     chr10:111502216-111512465  2850  chr10  111502216  111512465   10249   \n",
       "425     chr10:111574135-111577149   868  chr10  111574135  111577149    3014   \n",
       "711     chr10:116947851-116951390  1027  chr10  116947851  116951390    3539   \n",
       "...                           ...   ...    ...        ...        ...     ...   \n",
       "162369       chrX:7877432-7880492   996   chrX    7877432    7880492    3060   \n",
       "162397     chrX:81070033-81073465   535   chrX   81070033   81073465    3432   \n",
       "162631     chrX:99127111-99127794    19   chrX   99127111   99127794     683   \n",
       "162633     chrX:99134748-99139765  1127   chrX   99134748   99139765    5017   \n",
       "162636     chrX:99148076-99148694    42   chrX   99148076   99148694     618   \n",
       "\n",
       "              TPM  \n",
       "47       3.168178  \n",
       "85       0.042431  \n",
       "409     20.154704  \n",
       "425      6.138345  \n",
       "711      7.262765  \n",
       "...           ...  \n",
       "162369   7.043539  \n",
       "162397   3.783427  \n",
       "162631   0.134365  \n",
       "162633   7.969948  \n",
       "162636   0.297017  \n",
       "\n",
       "[956 rows x 7 columns]"
      ]
     },
     "execution_count": 18,
     "metadata": {},
     "output_type": "execute_result"
    }
   ],
   "source": [
    "mouse_atac_high"
   ]
  },
  {
   "cell_type": "code",
   "execution_count": 19,
   "metadata": {},
   "outputs": [],
   "source": [
    "def fasta2dic(fasta):\n",
    "    import os,re,sys\n",
    "    from Bio import SeqIO\n",
    "    from Bio.Seq import Seq\n",
    "    import pandas as pd\n",
    "    human_dir={}\n",
    "    records = SeqIO.parse(fasta, \"fasta\")\n",
    "    for record in records:\n",
    "        id = record.id\n",
    "        seq = record.seq\n",
    "        human_dir[id] = seq\n",
    "    return human_dir\n"
   ]
  },
  {
   "cell_type": "code",
   "execution_count": 22,
   "metadata": {},
   "outputs": [],
   "source": [
    "enhancer = fasta2dic('H:/002.singcell/01.liver/10.mutileSpecies/05.SAMap/014.mouse_liver_development/yangmo.origin.fa')"
   ]
  },
  {
   "cell_type": "code",
   "execution_count": 23,
   "metadata": {},
   "outputs": [
    {
     "name": "stdout",
     "output_type": "stream",
     "text": [
      "the number of enhancers that are conserved is 146\n"
     ]
    }
   ],
   "source": [
    "counter = 0\n",
    "target =[]\n",
    "for x in enhancer.keys():\n",
    "    if x in blast['human'].tolist():\n",
    "        counter += 1\n",
    "        target.append(x)\n",
    "print(f'the number of enhancers that are conserved is {counter}')"
   ]
  },
  {
   "cell_type": "code",
   "execution_count": 57,
   "metadata": {},
   "outputs": [],
   "source": [
    "df_human_liver_enhancer = pd.read_csv('H:/002.singcell/01.liver/10.mutileSpecies/05.SAMap/015.enhancer/AllPredictions.AvgHiC.ABC0.015.minus150.ForABCPaperV3.txt',sep='\\t',index_col=0)\n",
    "df_human_liver_enhancer = df_human_liver_enhancer[df_human_liver_enhancer['CellType']=='liver-ENCODE']"
   ]
  },
  {
   "cell_type": "code",
   "execution_count": 58,
   "metadata": {},
   "outputs": [
    {
     "data": {
      "text/html": [
       "<div>\n",
       "<style scoped>\n",
       "    .dataframe tbody tr th:only-of-type {\n",
       "        vertical-align: middle;\n",
       "    }\n",
       "\n",
       "    .dataframe tbody tr th {\n",
       "        vertical-align: top;\n",
       "    }\n",
       "\n",
       "    .dataframe thead th {\n",
       "        text-align: right;\n",
       "    }\n",
       "</style>\n",
       "<table border=\"1\" class=\"dataframe\">\n",
       "  <thead>\n",
       "    <tr style=\"text-align: right;\">\n",
       "      <th></th>\n",
       "      <th>start</th>\n",
       "      <th>end</th>\n",
       "      <th>name</th>\n",
       "      <th>class</th>\n",
       "      <th>activity_base</th>\n",
       "      <th>TargetGene</th>\n",
       "      <th>TargetGeneTSS</th>\n",
       "      <th>TargetGeneExpression</th>\n",
       "      <th>TargetGenePromoterActivityQuantile</th>\n",
       "      <th>TargetGeneIsExpressed</th>\n",
       "      <th>...</th>\n",
       "      <th>powerlaw_contact</th>\n",
       "      <th>powerlaw_contact_reference</th>\n",
       "      <th>hic_contact_pl_scaled</th>\n",
       "      <th>hic_pseudocount</th>\n",
       "      <th>hic_contact_pl_scaled_adj</th>\n",
       "      <th>ABC.Score.Numerator</th>\n",
       "      <th>ABC.Score</th>\n",
       "      <th>powerlaw.Score.Numerator</th>\n",
       "      <th>powerlaw.Score</th>\n",
       "      <th>CellType</th>\n",
       "    </tr>\n",
       "    <tr>\n",
       "      <th>chr</th>\n",
       "      <th></th>\n",
       "      <th></th>\n",
       "      <th></th>\n",
       "      <th></th>\n",
       "      <th></th>\n",
       "      <th></th>\n",
       "      <th></th>\n",
       "      <th></th>\n",
       "      <th></th>\n",
       "      <th></th>\n",
       "      <th></th>\n",
       "      <th></th>\n",
       "      <th></th>\n",
       "      <th></th>\n",
       "      <th></th>\n",
       "      <th></th>\n",
       "      <th></th>\n",
       "      <th></th>\n",
       "      <th></th>\n",
       "      <th></th>\n",
       "      <th></th>\n",
       "    </tr>\n",
       "  </thead>\n",
       "  <tbody>\n",
       "    <tr>\n",
       "      <th>chr1</th>\n",
       "      <td>1208114</td>\n",
       "      <td>1208523</td>\n",
       "      <td>genic|chr1:1207964-1208673</td>\n",
       "      <td>genic</td>\n",
       "      <td>4.833947</td>\n",
       "      <td>UBE2J2</td>\n",
       "      <td>1209234</td>\n",
       "      <td>NaN</td>\n",
       "      <td>0.734602</td>\n",
       "      <td>True</td>\n",
       "      <td>...</td>\n",
       "      <td>0.125372</td>\n",
       "      <td>0.123436</td>\n",
       "      <td>0.048468</td>\n",
       "      <td>0.001216</td>\n",
       "      <td>0.049684</td>\n",
       "      <td>0.240169</td>\n",
       "      <td>0.064867</td>\n",
       "      <td>0.596683</td>\n",
       "      <td>0.086196</td>\n",
       "      <td>liver-ENCODE</td>\n",
       "    </tr>\n",
       "    <tr>\n",
       "      <th>chr1</th>\n",
       "      <td>1209080</td>\n",
       "      <td>1209611</td>\n",
       "      <td>promoter|chr1:1208930-1209761</td>\n",
       "      <td>promoter</td>\n",
       "      <td>7.759225</td>\n",
       "      <td>UBE2J2</td>\n",
       "      <td>1209234</td>\n",
       "      <td>NaN</td>\n",
       "      <td>0.734602</td>\n",
       "      <td>True</td>\n",
       "      <td>...</td>\n",
       "      <td>0.125372</td>\n",
       "      <td>0.123436</td>\n",
       "      <td>0.048468</td>\n",
       "      <td>0.001216</td>\n",
       "      <td>0.049684</td>\n",
       "      <td>0.385508</td>\n",
       "      <td>0.104122</td>\n",
       "      <td>0.957768</td>\n",
       "      <td>0.138357</td>\n",
       "      <td>liver-ENCODE</td>\n",
       "    </tr>\n",
       "    <tr>\n",
       "      <th>chr1</th>\n",
       "      <td>1217079</td>\n",
       "      <td>1217589</td>\n",
       "      <td>genic|chr1:1216929-1217739</td>\n",
       "      <td>genic</td>\n",
       "      <td>11.350953</td>\n",
       "      <td>UBE2J2</td>\n",
       "      <td>1209234</td>\n",
       "      <td>NaN</td>\n",
       "      <td>0.734602</td>\n",
       "      <td>True</td>\n",
       "      <td>...</td>\n",
       "      <td>0.082206</td>\n",
       "      <td>0.081132</td>\n",
       "      <td>0.018883</td>\n",
       "      <td>0.001216</td>\n",
       "      <td>0.020099</td>\n",
       "      <td>0.228139</td>\n",
       "      <td>0.061618</td>\n",
       "      <td>0.920927</td>\n",
       "      <td>0.133035</td>\n",
       "      <td>liver-ENCODE</td>\n",
       "    </tr>\n",
       "    <tr>\n",
       "      <th>chr1</th>\n",
       "      <td>1684450</td>\n",
       "      <td>1685073</td>\n",
       "      <td>genic|chr1:1684300-1685223</td>\n",
       "      <td>genic</td>\n",
       "      <td>5.394758</td>\n",
       "      <td>NADK</td>\n",
       "      <td>1709909</td>\n",
       "      <td>NaN</td>\n",
       "      <td>0.872739</td>\n",
       "      <td>True</td>\n",
       "      <td>...</td>\n",
       "      <td>0.030509</td>\n",
       "      <td>0.030281</td>\n",
       "      <td>0.012373</td>\n",
       "      <td>0.001216</td>\n",
       "      <td>0.013588</td>\n",
       "      <td>0.073306</td>\n",
       "      <td>0.018105</td>\n",
       "      <td>0.163361</td>\n",
       "      <td>0.018287</td>\n",
       "      <td>liver-ENCODE</td>\n",
       "    </tr>\n",
       "    <tr>\n",
       "      <th>chr1</th>\n",
       "      <td>1689561</td>\n",
       "      <td>1689761</td>\n",
       "      <td>genic|chr1:1689411-1689911</td>\n",
       "      <td>genic</td>\n",
       "      <td>9.396646</td>\n",
       "      <td>NADK</td>\n",
       "      <td>1709909</td>\n",
       "      <td>NaN</td>\n",
       "      <td>0.872739</td>\n",
       "      <td>True</td>\n",
       "      <td>...</td>\n",
       "      <td>0.036878</td>\n",
       "      <td>0.036564</td>\n",
       "      <td>0.014171</td>\n",
       "      <td>0.001216</td>\n",
       "      <td>0.015387</td>\n",
       "      <td>0.144587</td>\n",
       "      <td>0.035709</td>\n",
       "      <td>0.343576</td>\n",
       "      <td>0.038460</td>\n",
       "      <td>liver-ENCODE</td>\n",
       "    </tr>\n",
       "    <tr>\n",
       "      <th>...</th>\n",
       "      <td>...</td>\n",
       "      <td>...</td>\n",
       "      <td>...</td>\n",
       "      <td>...</td>\n",
       "      <td>...</td>\n",
       "      <td>...</td>\n",
       "      <td>...</td>\n",
       "      <td>...</td>\n",
       "      <td>...</td>\n",
       "      <td>...</td>\n",
       "      <td>...</td>\n",
       "      <td>...</td>\n",
       "      <td>...</td>\n",
       "      <td>...</td>\n",
       "      <td>...</td>\n",
       "      <td>...</td>\n",
       "      <td>...</td>\n",
       "      <td>...</td>\n",
       "      <td>...</td>\n",
       "      <td>...</td>\n",
       "      <td>...</td>\n",
       "    </tr>\n",
       "    <tr>\n",
       "      <th>chrX</th>\n",
       "      <td>153769512</td>\n",
       "      <td>153769712</td>\n",
       "      <td>genic|chrX:153769362-153769862</td>\n",
       "      <td>genic</td>\n",
       "      <td>7.078828</td>\n",
       "      <td>SLC10A3</td>\n",
       "      <td>153719029</td>\n",
       "      <td>NaN</td>\n",
       "      <td>0.749756</td>\n",
       "      <td>True</td>\n",
       "      <td>...</td>\n",
       "      <td>0.016553</td>\n",
       "      <td>0.016487</td>\n",
       "      <td>0.006585</td>\n",
       "      <td>0.001216</td>\n",
       "      <td>0.007801</td>\n",
       "      <td>0.055220</td>\n",
       "      <td>0.020675</td>\n",
       "      <td>0.116706</td>\n",
       "      <td>0.022449</td>\n",
       "      <td>liver-ENCODE</td>\n",
       "    </tr>\n",
       "    <tr>\n",
       "      <th>chrX</th>\n",
       "      <td>153770112</td>\n",
       "      <td>153770312</td>\n",
       "      <td>genic|chrX:153769962-153770462</td>\n",
       "      <td>genic</td>\n",
       "      <td>7.777634</td>\n",
       "      <td>SLC10A3</td>\n",
       "      <td>153719029</td>\n",
       "      <td>NaN</td>\n",
       "      <td>0.749756</td>\n",
       "      <td>True</td>\n",
       "      <td>...</td>\n",
       "      <td>0.016383</td>\n",
       "      <td>0.016318</td>\n",
       "      <td>0.005539</td>\n",
       "      <td>0.001216</td>\n",
       "      <td>0.006755</td>\n",
       "      <td>0.052536</td>\n",
       "      <td>0.019670</td>\n",
       "      <td>0.126918</td>\n",
       "      <td>0.024413</td>\n",
       "      <td>liver-ENCODE</td>\n",
       "    </tr>\n",
       "    <tr>\n",
       "      <th>chrX</th>\n",
       "      <td>153770892</td>\n",
       "      <td>153771374</td>\n",
       "      <td>genic|chrX:153770742-153771524</td>\n",
       "      <td>genic</td>\n",
       "      <td>12.060128</td>\n",
       "      <td>MPP1</td>\n",
       "      <td>154033802</td>\n",
       "      <td>NaN</td>\n",
       "      <td>0.587950</td>\n",
       "      <td>True</td>\n",
       "      <td>...</td>\n",
       "      <td>0.003916</td>\n",
       "      <td>0.003933</td>\n",
       "      <td>0.001505</td>\n",
       "      <td>0.001216</td>\n",
       "      <td>0.002721</td>\n",
       "      <td>0.032816</td>\n",
       "      <td>0.020757</td>\n",
       "      <td>0.047434</td>\n",
       "      <td>0.016525</td>\n",
       "      <td>liver-ENCODE</td>\n",
       "    </tr>\n",
       "    <tr>\n",
       "      <th>chrX</th>\n",
       "      <td>154027592</td>\n",
       "      <td>154028214</td>\n",
       "      <td>genic|chrX:154027442-154028364</td>\n",
       "      <td>genic</td>\n",
       "      <td>8.020224</td>\n",
       "      <td>MPP1</td>\n",
       "      <td>154033802</td>\n",
       "      <td>NaN</td>\n",
       "      <td>0.587950</td>\n",
       "      <td>True</td>\n",
       "      <td>...</td>\n",
       "      <td>0.108488</td>\n",
       "      <td>0.106901</td>\n",
       "      <td>0.036832</td>\n",
       "      <td>0.001216</td>\n",
       "      <td>0.038048</td>\n",
       "      <td>0.305156</td>\n",
       "      <td>0.193020</td>\n",
       "      <td>0.857367</td>\n",
       "      <td>0.298685</td>\n",
       "      <td>liver-ENCODE</td>\n",
       "    </tr>\n",
       "    <tr>\n",
       "      <th>chrX</th>\n",
       "      <td>154033355</td>\n",
       "      <td>154034098</td>\n",
       "      <td>promoter|chrX:154033205-154034248</td>\n",
       "      <td>promoter</td>\n",
       "      <td>4.901057</td>\n",
       "      <td>MPP1</td>\n",
       "      <td>154033802</td>\n",
       "      <td>NaN</td>\n",
       "      <td>0.587950</td>\n",
       "      <td>True</td>\n",
       "      <td>...</td>\n",
       "      <td>0.125372</td>\n",
       "      <td>0.123436</td>\n",
       "      <td>0.036802</td>\n",
       "      <td>0.001216</td>\n",
       "      <td>0.038018</td>\n",
       "      <td>0.186328</td>\n",
       "      <td>0.117857</td>\n",
       "      <td>0.604967</td>\n",
       "      <td>0.210756</td>\n",
       "      <td>liver-ENCODE</td>\n",
       "    </tr>\n",
       "  </tbody>\n",
       "</table>\n",
       "<p>4713 rows × 23 columns</p>\n",
       "</div>"
      ],
      "text/plain": [
       "          start        end                               name     class  \\\n",
       "chr                                                                       \n",
       "chr1    1208114    1208523         genic|chr1:1207964-1208673     genic   \n",
       "chr1    1209080    1209611      promoter|chr1:1208930-1209761  promoter   \n",
       "chr1    1217079    1217589         genic|chr1:1216929-1217739     genic   \n",
       "chr1    1684450    1685073         genic|chr1:1684300-1685223     genic   \n",
       "chr1    1689561    1689761         genic|chr1:1689411-1689911     genic   \n",
       "...         ...        ...                                ...       ...   \n",
       "chrX  153769512  153769712     genic|chrX:153769362-153769862     genic   \n",
       "chrX  153770112  153770312     genic|chrX:153769962-153770462     genic   \n",
       "chrX  153770892  153771374     genic|chrX:153770742-153771524     genic   \n",
       "chrX  154027592  154028214     genic|chrX:154027442-154028364     genic   \n",
       "chrX  154033355  154034098  promoter|chrX:154033205-154034248  promoter   \n",
       "\n",
       "      activity_base TargetGene  TargetGeneTSS  TargetGeneExpression  \\\n",
       "chr                                                                   \n",
       "chr1       4.833947     UBE2J2        1209234                   NaN   \n",
       "chr1       7.759225     UBE2J2        1209234                   NaN   \n",
       "chr1      11.350953     UBE2J2        1209234                   NaN   \n",
       "chr1       5.394758       NADK        1709909                   NaN   \n",
       "chr1       9.396646       NADK        1709909                   NaN   \n",
       "...             ...        ...            ...                   ...   \n",
       "chrX       7.078828    SLC10A3      153719029                   NaN   \n",
       "chrX       7.777634    SLC10A3      153719029                   NaN   \n",
       "chrX      12.060128       MPP1      154033802                   NaN   \n",
       "chrX       8.020224       MPP1      154033802                   NaN   \n",
       "chrX       4.901057       MPP1      154033802                   NaN   \n",
       "\n",
       "      TargetGenePromoterActivityQuantile  TargetGeneIsExpressed  ...  \\\n",
       "chr                                                              ...   \n",
       "chr1                            0.734602                   True  ...   \n",
       "chr1                            0.734602                   True  ...   \n",
       "chr1                            0.734602                   True  ...   \n",
       "chr1                            0.872739                   True  ...   \n",
       "chr1                            0.872739                   True  ...   \n",
       "...                                  ...                    ...  ...   \n",
       "chrX                            0.749756                   True  ...   \n",
       "chrX                            0.749756                   True  ...   \n",
       "chrX                            0.587950                   True  ...   \n",
       "chrX                            0.587950                   True  ...   \n",
       "chrX                            0.587950                   True  ...   \n",
       "\n",
       "      powerlaw_contact  powerlaw_contact_reference  hic_contact_pl_scaled  \\\n",
       "chr                                                                         \n",
       "chr1          0.125372                    0.123436               0.048468   \n",
       "chr1          0.125372                    0.123436               0.048468   \n",
       "chr1          0.082206                    0.081132               0.018883   \n",
       "chr1          0.030509                    0.030281               0.012373   \n",
       "chr1          0.036878                    0.036564               0.014171   \n",
       "...                ...                         ...                    ...   \n",
       "chrX          0.016553                    0.016487               0.006585   \n",
       "chrX          0.016383                    0.016318               0.005539   \n",
       "chrX          0.003916                    0.003933               0.001505   \n",
       "chrX          0.108488                    0.106901               0.036832   \n",
       "chrX          0.125372                    0.123436               0.036802   \n",
       "\n",
       "      hic_pseudocount  hic_contact_pl_scaled_adj  ABC.Score.Numerator  \\\n",
       "chr                                                                     \n",
       "chr1         0.001216                   0.049684             0.240169   \n",
       "chr1         0.001216                   0.049684             0.385508   \n",
       "chr1         0.001216                   0.020099             0.228139   \n",
       "chr1         0.001216                   0.013588             0.073306   \n",
       "chr1         0.001216                   0.015387             0.144587   \n",
       "...               ...                        ...                  ...   \n",
       "chrX         0.001216                   0.007801             0.055220   \n",
       "chrX         0.001216                   0.006755             0.052536   \n",
       "chrX         0.001216                   0.002721             0.032816   \n",
       "chrX         0.001216                   0.038048             0.305156   \n",
       "chrX         0.001216                   0.038018             0.186328   \n",
       "\n",
       "      ABC.Score  powerlaw.Score.Numerator  powerlaw.Score      CellType  \n",
       "chr                                                                      \n",
       "chr1   0.064867                  0.596683        0.086196  liver-ENCODE  \n",
       "chr1   0.104122                  0.957768        0.138357  liver-ENCODE  \n",
       "chr1   0.061618                  0.920927        0.133035  liver-ENCODE  \n",
       "chr1   0.018105                  0.163361        0.018287  liver-ENCODE  \n",
       "chr1   0.035709                  0.343576        0.038460  liver-ENCODE  \n",
       "...         ...                       ...             ...           ...  \n",
       "chrX   0.020675                  0.116706        0.022449  liver-ENCODE  \n",
       "chrX   0.019670                  0.126918        0.024413  liver-ENCODE  \n",
       "chrX   0.020757                  0.047434        0.016525  liver-ENCODE  \n",
       "chrX   0.193020                  0.857367        0.298685  liver-ENCODE  \n",
       "chrX   0.117857                  0.604967        0.210756  liver-ENCODE  \n",
       "\n",
       "[4713 rows x 23 columns]"
      ]
     },
     "execution_count": 58,
     "metadata": {},
     "output_type": "execute_result"
    }
   ],
   "source": [
    "df_human_liver_enhancer[df_human_liver_enhancer['TargetGene'].isin(R1)].drop_duplicates(subset=['name'],keep='first')"
   ]
  },
  {
   "cell_type": "code",
   "execution_count": 72,
   "metadata": {},
   "outputs": [],
   "source": [
    "df_mouse_atac_high = df_human_liver_enhancer[df_human_liver_enhancer['name'].isin(blast['human'])]"
   ]
  },
  {
   "cell_type": "code",
   "execution_count": 73,
   "metadata": {},
   "outputs": [],
   "source": [
    "df_mouse_atac_high=df_mouse_atac_high.drop_duplicates(subset=['name'],keep='first')"
   ]
  },
  {
   "cell_type": "code",
   "execution_count": 74,
   "metadata": {},
   "outputs": [
    {
     "data": {
      "text/html": [
       "<div>\n",
       "<style scoped>\n",
       "    .dataframe tbody tr th:only-of-type {\n",
       "        vertical-align: middle;\n",
       "    }\n",
       "\n",
       "    .dataframe tbody tr th {\n",
       "        vertical-align: top;\n",
       "    }\n",
       "\n",
       "    .dataframe thead th {\n",
       "        text-align: right;\n",
       "    }\n",
       "</style>\n",
       "<table border=\"1\" class=\"dataframe\">\n",
       "  <thead>\n",
       "    <tr style=\"text-align: right;\">\n",
       "      <th></th>\n",
       "      <th>start</th>\n",
       "      <th>end</th>\n",
       "      <th>name</th>\n",
       "      <th>class</th>\n",
       "      <th>activity_base</th>\n",
       "      <th>TargetGene</th>\n",
       "      <th>TargetGeneTSS</th>\n",
       "      <th>TargetGeneExpression</th>\n",
       "      <th>TargetGenePromoterActivityQuantile</th>\n",
       "      <th>TargetGeneIsExpressed</th>\n",
       "      <th>...</th>\n",
       "      <th>powerlaw_contact</th>\n",
       "      <th>powerlaw_contact_reference</th>\n",
       "      <th>hic_contact_pl_scaled</th>\n",
       "      <th>hic_pseudocount</th>\n",
       "      <th>hic_contact_pl_scaled_adj</th>\n",
       "      <th>ABC.Score.Numerator</th>\n",
       "      <th>ABC.Score</th>\n",
       "      <th>powerlaw.Score.Numerator</th>\n",
       "      <th>powerlaw.Score</th>\n",
       "      <th>CellType</th>\n",
       "    </tr>\n",
       "    <tr>\n",
       "      <th>chr</th>\n",
       "      <th></th>\n",
       "      <th></th>\n",
       "      <th></th>\n",
       "      <th></th>\n",
       "      <th></th>\n",
       "      <th></th>\n",
       "      <th></th>\n",
       "      <th></th>\n",
       "      <th></th>\n",
       "      <th></th>\n",
       "      <th></th>\n",
       "      <th></th>\n",
       "      <th></th>\n",
       "      <th></th>\n",
       "      <th></th>\n",
       "      <th></th>\n",
       "      <th></th>\n",
       "      <th></th>\n",
       "      <th></th>\n",
       "      <th></th>\n",
       "      <th></th>\n",
       "    </tr>\n",
       "  </thead>\n",
       "  <tbody>\n",
       "    <tr>\n",
       "      <th>chr1</th>\n",
       "      <td>21671397</td>\n",
       "      <td>21672364</td>\n",
       "      <td>intergenic|chr1:21671247-21672514</td>\n",
       "      <td>intergenic</td>\n",
       "      <td>26.304502</td>\n",
       "      <td>C1QA</td>\n",
       "      <td>22962998</td>\n",
       "      <td>NaN</td>\n",
       "      <td>0.411398</td>\n",
       "      <td>True</td>\n",
       "      <td>...</td>\n",
       "      <td>0.000972</td>\n",
       "      <td>0.000984</td>\n",
       "      <td>0.000205</td>\n",
       "      <td>0.000972</td>\n",
       "      <td>0.001177</td>\n",
       "      <td>0.030965</td>\n",
       "      <td>0.015554</td>\n",
       "      <td>0.025889</td>\n",
       "      <td>0.010547</td>\n",
       "      <td>liver-ENCODE</td>\n",
       "    </tr>\n",
       "    <tr>\n",
       "      <th>chr1</th>\n",
       "      <td>26606112</td>\n",
       "      <td>26606636</td>\n",
       "      <td>promoter|chr1:26605962-26606786</td>\n",
       "      <td>promoter</td>\n",
       "      <td>13.140121</td>\n",
       "      <td>SH3BGRL3</td>\n",
       "      <td>26606212</td>\n",
       "      <td>NaN</td>\n",
       "      <td>0.865977</td>\n",
       "      <td>True</td>\n",
       "      <td>...</td>\n",
       "      <td>0.125372</td>\n",
       "      <td>0.123436</td>\n",
       "      <td>0.042142</td>\n",
       "      <td>0.001216</td>\n",
       "      <td>0.043358</td>\n",
       "      <td>0.569724</td>\n",
       "      <td>0.158123</td>\n",
       "      <td>1.621965</td>\n",
       "      <td>0.246040</td>\n",
       "      <td>liver-ENCODE</td>\n",
       "    </tr>\n",
       "    <tr>\n",
       "      <th>chr1</th>\n",
       "      <td>26946849</td>\n",
       "      <td>26947665</td>\n",
       "      <td>intergenic|chr1:26946699-26947815</td>\n",
       "      <td>intergenic</td>\n",
       "      <td>40.799530</td>\n",
       "      <td>PTAFR</td>\n",
       "      <td>28503455</td>\n",
       "      <td>NaN</td>\n",
       "      <td>0.436247</td>\n",
       "      <td>True</td>\n",
       "      <td>...</td>\n",
       "      <td>0.000826</td>\n",
       "      <td>0.000837</td>\n",
       "      <td>0.000325</td>\n",
       "      <td>0.000826</td>\n",
       "      <td>0.001150</td>\n",
       "      <td>0.046930</td>\n",
       "      <td>0.019518</td>\n",
       "      <td>0.034133</td>\n",
       "      <td>0.009794</td>\n",
       "      <td>liver-ENCODE</td>\n",
       "    </tr>\n",
       "    <tr>\n",
       "      <th>chr1</th>\n",
       "      <td>28498699</td>\n",
       "      <td>28498899</td>\n",
       "      <td>genic|chr1:28498549-28499049</td>\n",
       "      <td>genic</td>\n",
       "      <td>1.838767</td>\n",
       "      <td>PTAFR</td>\n",
       "      <td>28503455</td>\n",
       "      <td>NaN</td>\n",
       "      <td>0.436247</td>\n",
       "      <td>True</td>\n",
       "      <td>...</td>\n",
       "      <td>0.125372</td>\n",
       "      <td>0.123436</td>\n",
       "      <td>0.036465</td>\n",
       "      <td>0.001216</td>\n",
       "      <td>0.037680</td>\n",
       "      <td>0.069286</td>\n",
       "      <td>0.028815</td>\n",
       "      <td>0.226970</td>\n",
       "      <td>0.065126</td>\n",
       "      <td>liver-ENCODE</td>\n",
       "    </tr>\n",
       "    <tr>\n",
       "      <th>chr1</th>\n",
       "      <td>31296977</td>\n",
       "      <td>31297510</td>\n",
       "      <td>intergenic|chr1:31296827-31297660</td>\n",
       "      <td>intergenic</td>\n",
       "      <td>14.425468</td>\n",
       "      <td>SDC3</td>\n",
       "      <td>31381480</td>\n",
       "      <td>NaN</td>\n",
       "      <td>0.509492</td>\n",
       "      <td>True</td>\n",
       "      <td>...</td>\n",
       "      <td>0.010594</td>\n",
       "      <td>0.010579</td>\n",
       "      <td>0.007571</td>\n",
       "      <td>0.001216</td>\n",
       "      <td>0.008787</td>\n",
       "      <td>0.126761</td>\n",
       "      <td>0.047650</td>\n",
       "      <td>0.152602</td>\n",
       "      <td>0.039463</td>\n",
       "      <td>liver-ENCODE</td>\n",
       "    </tr>\n",
       "    <tr>\n",
       "      <th>...</th>\n",
       "      <td>...</td>\n",
       "      <td>...</td>\n",
       "      <td>...</td>\n",
       "      <td>...</td>\n",
       "      <td>...</td>\n",
       "      <td>...</td>\n",
       "      <td>...</td>\n",
       "      <td>...</td>\n",
       "      <td>...</td>\n",
       "      <td>...</td>\n",
       "      <td>...</td>\n",
       "      <td>...</td>\n",
       "      <td>...</td>\n",
       "      <td>...</td>\n",
       "      <td>...</td>\n",
       "      <td>...</td>\n",
       "      <td>...</td>\n",
       "      <td>...</td>\n",
       "      <td>...</td>\n",
       "      <td>...</td>\n",
       "      <td>...</td>\n",
       "    </tr>\n",
       "    <tr>\n",
       "      <th>chrX</th>\n",
       "      <td>39968051</td>\n",
       "      <td>39968533</td>\n",
       "      <td>intergenic|chrX:39967901-39968683</td>\n",
       "      <td>intergenic</td>\n",
       "      <td>12.617401</td>\n",
       "      <td>SRPX</td>\n",
       "      <td>38080177</td>\n",
       "      <td>NaN</td>\n",
       "      <td>0.447654</td>\n",
       "      <td>True</td>\n",
       "      <td>...</td>\n",
       "      <td>0.000697</td>\n",
       "      <td>0.000707</td>\n",
       "      <td>0.000113</td>\n",
       "      <td>0.000697</td>\n",
       "      <td>0.000810</td>\n",
       "      <td>0.010226</td>\n",
       "      <td>0.017051</td>\n",
       "      <td>0.008922</td>\n",
       "      <td>0.009132</td>\n",
       "      <td>liver-ENCODE</td>\n",
       "    </tr>\n",
       "    <tr>\n",
       "      <th>chrX</th>\n",
       "      <td>49023441</td>\n",
       "      <td>49023641</td>\n",
       "      <td>genic|chrX:49023291-49023791</td>\n",
       "      <td>genic</td>\n",
       "      <td>6.256536</td>\n",
       "      <td>PLP2</td>\n",
       "      <td>49028183</td>\n",
       "      <td>NaN</td>\n",
       "      <td>0.512058</td>\n",
       "      <td>True</td>\n",
       "      <td>...</td>\n",
       "      <td>0.125372</td>\n",
       "      <td>0.123436</td>\n",
       "      <td>0.030186</td>\n",
       "      <td>0.001216</td>\n",
       "      <td>0.031401</td>\n",
       "      <td>0.196464</td>\n",
       "      <td>0.081982</td>\n",
       "      <td>0.772282</td>\n",
       "      <td>0.138158</td>\n",
       "      <td>liver-ENCODE</td>\n",
       "    </tr>\n",
       "    <tr>\n",
       "      <th>chrX</th>\n",
       "      <td>70401856</td>\n",
       "      <td>70402056</td>\n",
       "      <td>intergenic|chrX:70401706-70402206</td>\n",
       "      <td>intergenic</td>\n",
       "      <td>6.368728</td>\n",
       "      <td>CXCR3</td>\n",
       "      <td>70838367</td>\n",
       "      <td>NaN</td>\n",
       "      <td>0.423212</td>\n",
       "      <td>True</td>\n",
       "      <td>...</td>\n",
       "      <td>0.002512</td>\n",
       "      <td>0.002529</td>\n",
       "      <td>0.000850</td>\n",
       "      <td>0.001216</td>\n",
       "      <td>0.002066</td>\n",
       "      <td>0.013157</td>\n",
       "      <td>0.015212</td>\n",
       "      <td>0.016105</td>\n",
       "      <td>0.008573</td>\n",
       "      <td>liver-ENCODE</td>\n",
       "    </tr>\n",
       "    <tr>\n",
       "      <th>chrX</th>\n",
       "      <td>129091321</td>\n",
       "      <td>129091735</td>\n",
       "      <td>intergenic|chrX:129091171-129091885</td>\n",
       "      <td>intergenic</td>\n",
       "      <td>6.635338</td>\n",
       "      <td>SASH3</td>\n",
       "      <td>128913891</td>\n",
       "      <td>NaN</td>\n",
       "      <td>0.472747</td>\n",
       "      <td>True</td>\n",
       "      <td>...</td>\n",
       "      <td>0.005515</td>\n",
       "      <td>0.005527</td>\n",
       "      <td>0.001168</td>\n",
       "      <td>0.001216</td>\n",
       "      <td>0.002384</td>\n",
       "      <td>0.015820</td>\n",
       "      <td>0.015115</td>\n",
       "      <td>0.036677</td>\n",
       "      <td>0.013241</td>\n",
       "      <td>liver-ENCODE</td>\n",
       "    </tr>\n",
       "    <tr>\n",
       "      <th>chrX</th>\n",
       "      <td>135229458</td>\n",
       "      <td>135230013</td>\n",
       "      <td>promoter|chrX:135229308-135230163</td>\n",
       "      <td>promoter</td>\n",
       "      <td>2.571128</td>\n",
       "      <td>FHL1</td>\n",
       "      <td>135229558</td>\n",
       "      <td>NaN</td>\n",
       "      <td>0.507210</td>\n",
       "      <td>True</td>\n",
       "      <td>...</td>\n",
       "      <td>0.125372</td>\n",
       "      <td>0.123436</td>\n",
       "      <td>0.034564</td>\n",
       "      <td>0.001216</td>\n",
       "      <td>0.035780</td>\n",
       "      <td>0.091995</td>\n",
       "      <td>0.130602</td>\n",
       "      <td>0.317370</td>\n",
       "      <td>0.221601</td>\n",
       "      <td>liver-ENCODE</td>\n",
       "    </tr>\n",
       "  </tbody>\n",
       "</table>\n",
       "<p>240 rows × 23 columns</p>\n",
       "</div>"
      ],
      "text/plain": [
       "          start        end                                 name       class  \\\n",
       "chr                                                                           \n",
       "chr1   21671397   21672364    intergenic|chr1:21671247-21672514  intergenic   \n",
       "chr1   26606112   26606636      promoter|chr1:26605962-26606786    promoter   \n",
       "chr1   26946849   26947665    intergenic|chr1:26946699-26947815  intergenic   \n",
       "chr1   28498699   28498899         genic|chr1:28498549-28499049       genic   \n",
       "chr1   31296977   31297510    intergenic|chr1:31296827-31297660  intergenic   \n",
       "...         ...        ...                                  ...         ...   \n",
       "chrX   39968051   39968533    intergenic|chrX:39967901-39968683  intergenic   \n",
       "chrX   49023441   49023641         genic|chrX:49023291-49023791       genic   \n",
       "chrX   70401856   70402056    intergenic|chrX:70401706-70402206  intergenic   \n",
       "chrX  129091321  129091735  intergenic|chrX:129091171-129091885  intergenic   \n",
       "chrX  135229458  135230013    promoter|chrX:135229308-135230163    promoter   \n",
       "\n",
       "      activity_base TargetGene  TargetGeneTSS  TargetGeneExpression  \\\n",
       "chr                                                                   \n",
       "chr1      26.304502       C1QA       22962998                   NaN   \n",
       "chr1      13.140121   SH3BGRL3       26606212                   NaN   \n",
       "chr1      40.799530      PTAFR       28503455                   NaN   \n",
       "chr1       1.838767      PTAFR       28503455                   NaN   \n",
       "chr1      14.425468       SDC3       31381480                   NaN   \n",
       "...             ...        ...            ...                   ...   \n",
       "chrX      12.617401       SRPX       38080177                   NaN   \n",
       "chrX       6.256536       PLP2       49028183                   NaN   \n",
       "chrX       6.368728      CXCR3       70838367                   NaN   \n",
       "chrX       6.635338      SASH3      128913891                   NaN   \n",
       "chrX       2.571128       FHL1      135229558                   NaN   \n",
       "\n",
       "      TargetGenePromoterActivityQuantile  TargetGeneIsExpressed  ...  \\\n",
       "chr                                                              ...   \n",
       "chr1                            0.411398                   True  ...   \n",
       "chr1                            0.865977                   True  ...   \n",
       "chr1                            0.436247                   True  ...   \n",
       "chr1                            0.436247                   True  ...   \n",
       "chr1                            0.509492                   True  ...   \n",
       "...                                  ...                    ...  ...   \n",
       "chrX                            0.447654                   True  ...   \n",
       "chrX                            0.512058                   True  ...   \n",
       "chrX                            0.423212                   True  ...   \n",
       "chrX                            0.472747                   True  ...   \n",
       "chrX                            0.507210                   True  ...   \n",
       "\n",
       "      powerlaw_contact  powerlaw_contact_reference  hic_contact_pl_scaled  \\\n",
       "chr                                                                         \n",
       "chr1          0.000972                    0.000984               0.000205   \n",
       "chr1          0.125372                    0.123436               0.042142   \n",
       "chr1          0.000826                    0.000837               0.000325   \n",
       "chr1          0.125372                    0.123436               0.036465   \n",
       "chr1          0.010594                    0.010579               0.007571   \n",
       "...                ...                         ...                    ...   \n",
       "chrX          0.000697                    0.000707               0.000113   \n",
       "chrX          0.125372                    0.123436               0.030186   \n",
       "chrX          0.002512                    0.002529               0.000850   \n",
       "chrX          0.005515                    0.005527               0.001168   \n",
       "chrX          0.125372                    0.123436               0.034564   \n",
       "\n",
       "      hic_pseudocount  hic_contact_pl_scaled_adj  ABC.Score.Numerator  \\\n",
       "chr                                                                     \n",
       "chr1         0.000972                   0.001177             0.030965   \n",
       "chr1         0.001216                   0.043358             0.569724   \n",
       "chr1         0.000826                   0.001150             0.046930   \n",
       "chr1         0.001216                   0.037680             0.069286   \n",
       "chr1         0.001216                   0.008787             0.126761   \n",
       "...               ...                        ...                  ...   \n",
       "chrX         0.000697                   0.000810             0.010226   \n",
       "chrX         0.001216                   0.031401             0.196464   \n",
       "chrX         0.001216                   0.002066             0.013157   \n",
       "chrX         0.001216                   0.002384             0.015820   \n",
       "chrX         0.001216                   0.035780             0.091995   \n",
       "\n",
       "      ABC.Score  powerlaw.Score.Numerator  powerlaw.Score      CellType  \n",
       "chr                                                                      \n",
       "chr1   0.015554                  0.025889        0.010547  liver-ENCODE  \n",
       "chr1   0.158123                  1.621965        0.246040  liver-ENCODE  \n",
       "chr1   0.019518                  0.034133        0.009794  liver-ENCODE  \n",
       "chr1   0.028815                  0.226970        0.065126  liver-ENCODE  \n",
       "chr1   0.047650                  0.152602        0.039463  liver-ENCODE  \n",
       "...         ...                       ...             ...           ...  \n",
       "chrX   0.017051                  0.008922        0.009132  liver-ENCODE  \n",
       "chrX   0.081982                  0.772282        0.138158  liver-ENCODE  \n",
       "chrX   0.015212                  0.016105        0.008573  liver-ENCODE  \n",
       "chrX   0.015115                  0.036677        0.013241  liver-ENCODE  \n",
       "chrX   0.130602                  0.317370        0.221601  liver-ENCODE  \n",
       "\n",
       "[240 rows x 23 columns]"
      ]
     },
     "execution_count": 74,
     "metadata": {},
     "output_type": "execute_result"
    }
   ],
   "source": [
    "df_mouse_atac_high[df_mouse_atac_high['TargetGene'].isin(R2)]"
   ]
  },
  {
   "cell_type": "code",
   "execution_count": null,
   "metadata": {},
   "outputs": [],
   "source": [
    "blast_dir = blast.set_index('mouse')['human'].to_dict()"
   ]
  },
  {
   "cell_type": "code",
   "execution_count": 78,
   "metadata": {},
   "outputs": [
    {
     "name": "stderr",
     "output_type": "stream",
     "text": [
      "C:\\Users\\wubaosheng\\AppData\\Local\\Temp\\ipykernel_6636\\4061197566.py:1: SettingWithCopyWarning: \n",
      "A value is trying to be set on a copy of a slice from a DataFrame.\n",
      "Try using .loc[row_indexer,col_indexer] = value instead\n",
      "\n",
      "See the caveats in the documentation: https://pandas.pydata.org/pandas-docs/stable/user_guide/indexing.html#returning-a-view-versus-a-copy\n",
      "  mouse_atac_high['human_chr']=mouse_atac_high['chr'].map(blast_dir)\n"
     ]
    }
   ],
   "source": [
    "mouse_atac_high['human_chr']=mouse_atac_high['chr'].map(blast_dir)"
   ]
  },
  {
   "cell_type": "code",
   "execution_count": 457,
   "metadata": {},
   "outputs": [],
   "source": [
    "df_human_liver_enhancer[df_human_liver_enhancer['name'].isin(target)]['TargetGene'].to_csv('H:/002.singcell/01.liver/10.mutileSpecies/05.SAMap/015.enhancer/Fish_liver_enhancer_target_gene.txt',sep='\\t',index=False,header=False)"
   ]
  },
  {
   "cell_type": "code",
   "execution_count": 81,
   "metadata": {},
   "outputs": [],
   "source": [
    "df_human_liver_enhancer=df_human_liver_enhancer.drop_duplicates(subset=['name'],keep='first')"
   ]
  },
  {
   "cell_type": "code",
   "execution_count": 83,
   "metadata": {},
   "outputs": [],
   "source": [
    "df_human_liver_enhancer_dir = df_human_liver_enhancer.set_index('name')['TargetGene'].to_dict()"
   ]
  },
  {
   "cell_type": "code",
   "execution_count": 85,
   "metadata": {},
   "outputs": [
    {
     "name": "stderr",
     "output_type": "stream",
     "text": [
      "C:\\Users\\wubaosheng\\AppData\\Local\\Temp\\ipykernel_6636\\1899922543.py:1: SettingWithCopyWarning: \n",
      "A value is trying to be set on a copy of a slice from a DataFrame.\n",
      "Try using .loc[row_indexer,col_indexer] = value instead\n",
      "\n",
      "See the caveats in the documentation: https://pandas.pydata.org/pandas-docs/stable/user_guide/indexing.html#returning-a-view-versus-a-copy\n",
      "  mouse_atac_high['targetGene']=mouse_atac_high['human_chr'].map(df_human_liver_enhancer_dir)\n"
     ]
    }
   ],
   "source": [
    "mouse_atac_high['targetGene']=mouse_atac_high['human_chr'].map(df_human_liver_enhancer_dir)"
   ]
  },
  {
   "cell_type": "code",
   "execution_count": 87,
   "metadata": {},
   "outputs": [],
   "source": [
    "gene_info =[]\n",
    "for x in mouse_atac_high['targetGene']:\n",
    "    if x in R1:\n",
    "        gene_info.append('R1')\n",
    "    elif x in R2:\n",
    "        gene_info.append('R2')\n",
    "    else:\n",
    "        gene_info.append('ancient')\n"
   ]
  },
  {
   "cell_type": "code",
   "execution_count": 90,
   "metadata": {},
   "outputs": [
    {
     "name": "stderr",
     "output_type": "stream",
     "text": [
      "C:\\Users\\wubaosheng\\AppData\\Local\\Temp\\ipykernel_6636\\2568889653.py:1: SettingWithCopyWarning: \n",
      "A value is trying to be set on a copy of a slice from a DataFrame.\n",
      "Try using .loc[row_indexer,col_indexer] = value instead\n",
      "\n",
      "See the caveats in the documentation: https://pandas.pydata.org/pandas-docs/stable/user_guide/indexing.html#returning-a-view-versus-a-copy\n",
      "  mouse_atac_high['R1_R2']=gene_info\n"
     ]
    }
   ],
   "source": [
    "mouse_atac_high['R1_R2']=gene_info"
   ]
  },
  {
   "cell_type": "code",
   "execution_count": 91,
   "metadata": {},
   "outputs": [
    {
     "data": {
      "text/html": [
       "<div>\n",
       "<style scoped>\n",
       "    .dataframe tbody tr th:only-of-type {\n",
       "        vertical-align: middle;\n",
       "    }\n",
       "\n",
       "    .dataframe tbody tr th {\n",
       "        vertical-align: top;\n",
       "    }\n",
       "\n",
       "    .dataframe thead th {\n",
       "        text-align: right;\n",
       "    }\n",
       "</style>\n",
       "<table border=\"1\" class=\"dataframe\">\n",
       "  <thead>\n",
       "    <tr style=\"text-align: right;\">\n",
       "      <th></th>\n",
       "      <th>chr</th>\n",
       "      <th>UMI</th>\n",
       "      <th>id</th>\n",
       "      <th>start</th>\n",
       "      <th>end</th>\n",
       "      <th>length</th>\n",
       "      <th>TPM</th>\n",
       "      <th>human_chr</th>\n",
       "      <th>targetGene</th>\n",
       "      <th>R1_R2</th>\n",
       "    </tr>\n",
       "  </thead>\n",
       "  <tbody>\n",
       "    <tr>\n",
       "      <th>47</th>\n",
       "      <td>chr10:102510952-102512958</td>\n",
       "      <td>448</td>\n",
       "      <td>chr10</td>\n",
       "      <td>102510952</td>\n",
       "      <td>102512958</td>\n",
       "      <td>2006</td>\n",
       "      <td>3.168178</td>\n",
       "      <td>promoter|chr12:86229863-86230568</td>\n",
       "      <td>RASSF9</td>\n",
       "      <td>R1</td>\n",
       "    </tr>\n",
       "    <tr>\n",
       "      <th>85</th>\n",
       "      <td>chr10:10392716-10392881</td>\n",
       "      <td>6</td>\n",
       "      <td>chr10</td>\n",
       "      <td>10392716</td>\n",
       "      <td>10392881</td>\n",
       "      <td>165</td>\n",
       "      <td>0.042431</td>\n",
       "      <td>genic|chr18:24723689-24724189</td>\n",
       "      <td>CHST9</td>\n",
       "      <td>R2</td>\n",
       "    </tr>\n",
       "    <tr>\n",
       "      <th>409</th>\n",
       "      <td>chr10:111502216-111512465</td>\n",
       "      <td>2850</td>\n",
       "      <td>chr10</td>\n",
       "      <td>111502216</td>\n",
       "      <td>111512465</td>\n",
       "      <td>10249</td>\n",
       "      <td>20.154704</td>\n",
       "      <td>promoter|chr12:76425235-76425806</td>\n",
       "      <td>PHLDA1</td>\n",
       "      <td>R1</td>\n",
       "    </tr>\n",
       "    <tr>\n",
       "      <th>425</th>\n",
       "      <td>chr10:111574135-111577149</td>\n",
       "      <td>868</td>\n",
       "      <td>chr10</td>\n",
       "      <td>111574135</td>\n",
       "      <td>111577149</td>\n",
       "      <td>3014</td>\n",
       "      <td>6.138345</td>\n",
       "      <td>intergenic|chr12:76337875-76338375</td>\n",
       "      <td>PHLDA1</td>\n",
       "      <td>R1</td>\n",
       "    </tr>\n",
       "    <tr>\n",
       "      <th>711</th>\n",
       "      <td>chr10:116947851-116951390</td>\n",
       "      <td>1027</td>\n",
       "      <td>chr10</td>\n",
       "      <td>116947851</td>\n",
       "      <td>116951390</td>\n",
       "      <td>3539</td>\n",
       "      <td>7.262765</td>\n",
       "      <td>promoter|chr12:70132098-70132982</td>\n",
       "      <td>RAB3IP</td>\n",
       "      <td>ancient</td>\n",
       "    </tr>\n",
       "    <tr>\n",
       "      <th>...</th>\n",
       "      <td>...</td>\n",
       "      <td>...</td>\n",
       "      <td>...</td>\n",
       "      <td>...</td>\n",
       "      <td>...</td>\n",
       "      <td>...</td>\n",
       "      <td>...</td>\n",
       "      <td>...</td>\n",
       "      <td>...</td>\n",
       "      <td>...</td>\n",
       "    </tr>\n",
       "    <tr>\n",
       "      <th>162369</th>\n",
       "      <td>chrX:7877432-7880492</td>\n",
       "      <td>996</td>\n",
       "      <td>chrX</td>\n",
       "      <td>7877432</td>\n",
       "      <td>7880492</td>\n",
       "      <td>3060</td>\n",
       "      <td>7.043539</td>\n",
       "      <td>promoter|chrX:48775948-48776924</td>\n",
       "      <td>PIM2</td>\n",
       "      <td>ancient</td>\n",
       "    </tr>\n",
       "    <tr>\n",
       "      <th>162397</th>\n",
       "      <td>chrX:81070033-81073465</td>\n",
       "      <td>535</td>\n",
       "      <td>chrX</td>\n",
       "      <td>81070033</td>\n",
       "      <td>81073465</td>\n",
       "      <td>3432</td>\n",
       "      <td>3.783427</td>\n",
       "      <td>promoter|chrX:34674942-34675734</td>\n",
       "      <td>TMEM47</td>\n",
       "      <td>ancient</td>\n",
       "    </tr>\n",
       "    <tr>\n",
       "      <th>162631</th>\n",
       "      <td>chrX:99127111-99127794</td>\n",
       "      <td>19</td>\n",
       "      <td>chrX</td>\n",
       "      <td>99127111</td>\n",
       "      <td>99127794</td>\n",
       "      <td>683</td>\n",
       "      <td>0.134365</td>\n",
       "      <td>intergenic|chrX:68040348-68040848</td>\n",
       "      <td>EFNB1</td>\n",
       "      <td>ancient</td>\n",
       "    </tr>\n",
       "    <tr>\n",
       "      <th>162633</th>\n",
       "      <td>chrX:99134748-99139765</td>\n",
       "      <td>1127</td>\n",
       "      <td>chrX</td>\n",
       "      <td>99134748</td>\n",
       "      <td>99139765</td>\n",
       "      <td>5017</td>\n",
       "      <td>7.969948</td>\n",
       "      <td>promoter|chrX:68048451-68049202</td>\n",
       "      <td>EFNB1</td>\n",
       "      <td>ancient</td>\n",
       "    </tr>\n",
       "    <tr>\n",
       "      <th>162636</th>\n",
       "      <td>chrX:99148076-99148694</td>\n",
       "      <td>42</td>\n",
       "      <td>chrX</td>\n",
       "      <td>99148076</td>\n",
       "      <td>99148694</td>\n",
       "      <td>618</td>\n",
       "      <td>0.297017</td>\n",
       "      <td>genic|chrX:68061385-68061885</td>\n",
       "      <td>EFNB1</td>\n",
       "      <td>ancient</td>\n",
       "    </tr>\n",
       "  </tbody>\n",
       "</table>\n",
       "<p>956 rows × 10 columns</p>\n",
       "</div>"
      ],
      "text/plain": [
       "                              chr   UMI     id      start        end  length  \\\n",
       "47      chr10:102510952-102512958   448  chr10  102510952  102512958    2006   \n",
       "85        chr10:10392716-10392881     6  chr10   10392716   10392881     165   \n",
       "409     chr10:111502216-111512465  2850  chr10  111502216  111512465   10249   \n",
       "425     chr10:111574135-111577149   868  chr10  111574135  111577149    3014   \n",
       "711     chr10:116947851-116951390  1027  chr10  116947851  116951390    3539   \n",
       "...                           ...   ...    ...        ...        ...     ...   \n",
       "162369       chrX:7877432-7880492   996   chrX    7877432    7880492    3060   \n",
       "162397     chrX:81070033-81073465   535   chrX   81070033   81073465    3432   \n",
       "162631     chrX:99127111-99127794    19   chrX   99127111   99127794     683   \n",
       "162633     chrX:99134748-99139765  1127   chrX   99134748   99139765    5017   \n",
       "162636     chrX:99148076-99148694    42   chrX   99148076   99148694     618   \n",
       "\n",
       "              TPM                           human_chr targetGene    R1_R2  \n",
       "47       3.168178    promoter|chr12:86229863-86230568     RASSF9       R1  \n",
       "85       0.042431       genic|chr18:24723689-24724189      CHST9       R2  \n",
       "409     20.154704    promoter|chr12:76425235-76425806     PHLDA1       R1  \n",
       "425      6.138345  intergenic|chr12:76337875-76338375     PHLDA1       R1  \n",
       "711      7.262765    promoter|chr12:70132098-70132982     RAB3IP  ancient  \n",
       "...           ...                                 ...        ...      ...  \n",
       "162369   7.043539     promoter|chrX:48775948-48776924       PIM2  ancient  \n",
       "162397   3.783427     promoter|chrX:34674942-34675734     TMEM47  ancient  \n",
       "162631   0.134365   intergenic|chrX:68040348-68040848      EFNB1  ancient  \n",
       "162633   7.969948     promoter|chrX:68048451-68049202      EFNB1  ancient  \n",
       "162636   0.297017        genic|chrX:68061385-68061885      EFNB1  ancient  \n",
       "\n",
       "[956 rows x 10 columns]"
      ]
     },
     "execution_count": 91,
     "metadata": {},
     "output_type": "execute_result"
    }
   ],
   "source": [
    "mouse_atac_high"
   ]
  },
  {
   "cell_type": "code",
   "execution_count": 98,
   "metadata": {},
   "outputs": [
    {
     "data": {
      "text/plain": [
       "<AxesSubplot:xlabel='R1_R2', ylabel='TPM'>"
      ]
     },
     "execution_count": 98,
     "metadata": {},
     "output_type": "execute_result"
    },
    {
     "data": {
      "image/png": "[encoded data removed]",
      "text/plain": [
       "<Figure size 432x288 with 1 Axes>"
      ]
     },
     "metadata": {
      "needs_background": "light"
     },
     "output_type": "display_data"
    }
   ],
   "source": [
    "# sns.violinplot(data=mouse_atac_high, x='R1_R2', y=\"TPM\", inner=\"box\", cut=0, linewidth=0.5, palette=\"Set2\")\n",
    "sns.boxplot(data=mouse_atac_high, x='R1_R2', y=\"TPM\", linewidth=0.5, palette=\"Set2\")\n",
    "# plt.savefig(\"H:/002.singcell/01.liver/10.mutileSpecies/05.SAMap/014.mouse_liver_development/mouse_development_atac.pdf\", bbox_inches='tight')"
   ]
  },
  {
   "cell_type": "code",
   "execution_count": 10,
   "metadata": {},
   "outputs": [],
   "source": [
    "endothelia_marker=[\"ITIH2\",\"HABP2\",\"PAH\",\"HAO1\",\"F2\",\"ITIH3\",\"HAL\",\"F9\",\"VTN\",\"AMBP,\",\"SORD\",\"FGB\",\"KNG1\",\"HGD\",\"SERPIND1\",\"SERPINF2\",\"FGA\",\"HAAO\",\"CP\",\"PLG\",\"HPD\",\"C3\",\"F7\",\"TDO2\",\"F10\",\"FGG\",\"CFI\"]"
   ]
  },
  {
   "cell_type": "code",
   "execution_count": 11,
   "metadata": {},
   "outputs": [
    {
     "data": {
      "text/plain": [
       "27"
      ]
     },
     "execution_count": 11,
     "metadata": {},
     "output_type": "execute_result"
    }
   ],
   "source": [
    "len(endothelia_marker)"
   ]
  },
  {
   "cell_type": "code",
   "execution_count": 19,
   "metadata": {},
   "outputs": [
    {
     "name": "stdout",
     "output_type": "stream",
     "text": [
      "HABP2\n",
      "PAH\n",
      "HAO1\n",
      "F2\n",
      "HAL\n",
      "F9\n",
      "VTN\n",
      "AMBP,\n",
      "SORD\n",
      "FGB\n",
      "HGD\n",
      "SERPIND1\n",
      "FGA\n",
      "HAAO\n",
      "CP\n",
      "PLG\n",
      "HPD\n",
      "C3\n",
      "F7\n",
      "TDO2\n",
      "F10\n",
      "FGG\n",
      "CFI\n"
     ]
    }
   ],
   "source": [
    "for i in endothelia_marker:\n",
    "    if i not in set(endothelia_marker).intersection(set(R2)):\n",
    "        print(i)"
   ]
  },
  {
   "cell_type": "code",
   "execution_count": 20,
   "metadata": {},
   "outputs": [
    {
     "data": {
      "text/plain": [
       "{'ITIH2', 'ITIH3', 'KNG1', 'SERPINF2'}"
      ]
     },
     "execution_count": 20,
     "metadata": {},
     "output_type": "execute_result"
    }
   ],
   "source": [
    "set(endothelia_marker).intersection(set(R2))"
   ]
  },
  {
   "cell_type": "code",
   "execution_count": null,
   "metadata": {},
   "outputs": [],
   "source": []
  }
 ],
 "metadata": {
  "kernelspec": {
   "display_name": "Python 3",
   "language": "python",
   "name": "python3"
  },
  "language_info": {
   "codemirror_mode": {
    "name": "ipython",
    "version": 3
   },
   "file_extension": ".py",
   "mimetype": "text/x-python",
   "name": "python",
   "nbconvert_exporter": "python",
   "pygments_lexer": "ipython3",
   "version": "3.9.7"
  },
  "orig_nbformat": 4
 },
 "nbformat": 4,
 "nbformat_minor": 2
}
